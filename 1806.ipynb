{
 "cells": [
  {
   "cell_type": "code",
   "execution_count": null,
   "metadata": {},
   "outputs": [],
   "source": [
    "\n",
    "import sys\n",
    "input = sys.stdin.readline\n",
    "\n",
    "def partial_sum(n, s, num_list):\n",
    "    \n",
    "    min_length = 0\n",
    "    sum_val = 0\n",
    "    sum_length = 0\n",
    "\n",
    "    # 초기 합의 값 초기화\n",
    "    while sum_val<s and sum_length<n:\n",
    "        sum_val += num_list[sum_length]\n",
    "        sum_length += 1\n",
    "\n",
    "    if(sum_length==n and sum_val<s):\n",
    "        return 0\n",
    "        \n",
    "    min_length = sum_length\n",
    "    # print(sum_length, sum_val)\n",
    "    \n",
    "    # 첫 항이 아닌 나머지 항들 순회\n",
    "    for idx in range(1, n):\n",
    "        sum_val -= num_list[idx-1]\n",
    "        sum_length -= 1\n",
    "\n",
    "        while sum_val<s and sum_length+idx<n:\n",
    "            sum_val += num_list[sum_length+idx]\n",
    "            sum_length += 1\n",
    "\n",
    "        # print(sum_length, sum_val)\n",
    "        \n",
    "        if(sum_length+idx==n and sum_val<s):\n",
    "            break\n",
    "\n",
    "        if(min_length>sum_length):\n",
    "            min_length = sum_length\n",
    "\n",
    "\n",
    "    return min_length\n",
    "\n",
    "\n",
    "n,s = map(int, input().split())\n",
    "\n",
    "num_list = list(map(int, input().split()))\n",
    "print(partial_sum(n, s, num_list))"
   ]
  }
 ],
 "metadata": {
  "kernelspec": {
   "display_name": "base",
   "language": "python",
   "name": "python3"
  },
  "language_info": {
   "name": "python",
   "version": "3.9.13"
  },
  "orig_nbformat": 4,
  "vscode": {
   "interpreter": {
    "hash": "a077222d77dfe082b8f1dd562ad70e458ac2ab76993a0b248ab0476e32e9e8dd"
   }
  }
 },
 "nbformat": 4,
 "nbformat_minor": 2
}
