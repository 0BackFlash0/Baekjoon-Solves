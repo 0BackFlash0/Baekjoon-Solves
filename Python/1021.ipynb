{
 "cells": [
  {
   "cell_type": "code",
   "execution_count": 1,
   "id": "9004f2a2-9555-4318-84b3-4a78516f59f0",
   "metadata": {},
   "outputs": [
    {
     "ename": "KeyboardInterrupt",
     "evalue": "Interrupted by user",
     "output_type": "error",
     "traceback": [
      "\u001b[1;31m---------------------------------------------------------------------------\u001b[0m",
      "\u001b[1;31mKeyboardInterrupt\u001b[0m                         Traceback (most recent call last)",
      "Input \u001b[1;32mIn [1]\u001b[0m, in \u001b[0;36m<cell line: 8>\u001b[1;34m()\u001b[0m\n\u001b[0;32m      2\u001b[0m     \u001b[38;5;28;01mreturn\u001b[39;00m (goal \u001b[38;5;241m-\u001b[39m pos)\u001b[38;5;241m%\u001b[39mmax_len \u001b[38;5;28;01mif\u001b[39;00m (goal \u001b[38;5;241m-\u001b[39m pos)\u001b[38;5;241m%\u001b[39mmax_len \u001b[38;5;241m<\u001b[39m (pos \u001b[38;5;241m-\u001b[39m goal)\u001b[38;5;241m%\u001b[39mmax_len \u001b[38;5;28;01melse\u001b[39;00m (pos \u001b[38;5;241m-\u001b[39m goal)\u001b[38;5;241m%\u001b[39mmax_len\n\u001b[0;32m      3\u001b[0m     \u001b[38;5;66;03m# print((goal - pos)%max_len, (pos - goal)%max_len)\u001b[39;00m\n\u001b[0;32m      4\u001b[0m     \u001b[38;5;66;03m# return min((goal - pos)%max_len, (pos - goal)%max_len)\u001b[39;00m\n\u001b[1;32m----> 8\u001b[0m len_queue, len_input \u001b[38;5;241m=\u001b[39m \u001b[38;5;28mmap\u001b[39m(\u001b[38;5;28mint\u001b[39m, \u001b[38;5;28;43minput\u001b[39;49m\u001b[43m(\u001b[49m\u001b[43m)\u001b[49m\u001b[38;5;241m.\u001b[39msplit(\u001b[38;5;124m\"\u001b[39m\u001b[38;5;124m \u001b[39m\u001b[38;5;124m\"\u001b[39m))\n\u001b[0;32m      9\u001b[0m input_list \u001b[38;5;241m=\u001b[39m \u001b[38;5;28mlist\u001b[39m(\u001b[38;5;28mmap\u001b[39m(\u001b[38;5;28mint\u001b[39m, \u001b[38;5;28minput\u001b[39m()\u001b[38;5;241m.\u001b[39msplit(\u001b[38;5;124m\"\u001b[39m\u001b[38;5;124m \u001b[39m\u001b[38;5;124m\"\u001b[39m)))\n\u001b[0;32m     10\u001b[0m max_len \u001b[38;5;241m=\u001b[39m len_queue\n",
      "File \u001b[1;32m~\\anaconda3\\lib\\site-packages\\ipykernel\\kernelbase.py:1075\u001b[0m, in \u001b[0;36mKernel.raw_input\u001b[1;34m(self, prompt)\u001b[0m\n\u001b[0;32m   1071\u001b[0m \u001b[38;5;28;01mif\u001b[39;00m \u001b[38;5;129;01mnot\u001b[39;00m \u001b[38;5;28mself\u001b[39m\u001b[38;5;241m.\u001b[39m_allow_stdin:\n\u001b[0;32m   1072\u001b[0m     \u001b[38;5;28;01mraise\u001b[39;00m StdinNotImplementedError(\n\u001b[0;32m   1073\u001b[0m         \u001b[38;5;124m\"\u001b[39m\u001b[38;5;124mraw_input was called, but this frontend does not support input requests.\u001b[39m\u001b[38;5;124m\"\u001b[39m\n\u001b[0;32m   1074\u001b[0m     )\n\u001b[1;32m-> 1075\u001b[0m \u001b[38;5;28;01mreturn\u001b[39;00m \u001b[38;5;28;43mself\u001b[39;49m\u001b[38;5;241;43m.\u001b[39;49m\u001b[43m_input_request\u001b[49m\u001b[43m(\u001b[49m\n\u001b[0;32m   1076\u001b[0m \u001b[43m    \u001b[49m\u001b[38;5;28;43mstr\u001b[39;49m\u001b[43m(\u001b[49m\u001b[43mprompt\u001b[49m\u001b[43m)\u001b[49m\u001b[43m,\u001b[49m\n\u001b[0;32m   1077\u001b[0m \u001b[43m    \u001b[49m\u001b[38;5;28;43mself\u001b[39;49m\u001b[38;5;241;43m.\u001b[39;49m\u001b[43m_parent_ident\u001b[49m\u001b[43m[\u001b[49m\u001b[38;5;124;43m\"\u001b[39;49m\u001b[38;5;124;43mshell\u001b[39;49m\u001b[38;5;124;43m\"\u001b[39;49m\u001b[43m]\u001b[49m\u001b[43m,\u001b[49m\n\u001b[0;32m   1078\u001b[0m \u001b[43m    \u001b[49m\u001b[38;5;28;43mself\u001b[39;49m\u001b[38;5;241;43m.\u001b[39;49m\u001b[43mget_parent\u001b[49m\u001b[43m(\u001b[49m\u001b[38;5;124;43m\"\u001b[39;49m\u001b[38;5;124;43mshell\u001b[39;49m\u001b[38;5;124;43m\"\u001b[39;49m\u001b[43m)\u001b[49m\u001b[43m,\u001b[49m\n\u001b[0;32m   1079\u001b[0m \u001b[43m    \u001b[49m\u001b[43mpassword\u001b[49m\u001b[38;5;241;43m=\u001b[39;49m\u001b[38;5;28;43;01mFalse\u001b[39;49;00m\u001b[43m,\u001b[49m\n\u001b[0;32m   1080\u001b[0m \u001b[43m\u001b[49m\u001b[43m)\u001b[49m\n",
      "File \u001b[1;32m~\\anaconda3\\lib\\site-packages\\ipykernel\\kernelbase.py:1120\u001b[0m, in \u001b[0;36mKernel._input_request\u001b[1;34m(self, prompt, ident, parent, password)\u001b[0m\n\u001b[0;32m   1117\u001b[0m             \u001b[38;5;28;01mbreak\u001b[39;00m\n\u001b[0;32m   1118\u001b[0m \u001b[38;5;28;01mexcept\u001b[39;00m \u001b[38;5;167;01mKeyboardInterrupt\u001b[39;00m:\n\u001b[0;32m   1119\u001b[0m     \u001b[38;5;66;03m# re-raise KeyboardInterrupt, to truncate traceback\u001b[39;00m\n\u001b[1;32m-> 1120\u001b[0m     \u001b[38;5;28;01mraise\u001b[39;00m \u001b[38;5;167;01mKeyboardInterrupt\u001b[39;00m(\u001b[38;5;124m\"\u001b[39m\u001b[38;5;124mInterrupted by user\u001b[39m\u001b[38;5;124m\"\u001b[39m) \u001b[38;5;28;01mfrom\u001b[39;00m \u001b[38;5;28mNone\u001b[39m\n\u001b[0;32m   1121\u001b[0m \u001b[38;5;28;01mexcept\u001b[39;00m \u001b[38;5;167;01mException\u001b[39;00m:\n\u001b[0;32m   1122\u001b[0m     \u001b[38;5;28mself\u001b[39m\u001b[38;5;241m.\u001b[39mlog\u001b[38;5;241m.\u001b[39mwarning(\u001b[38;5;124m\"\u001b[39m\u001b[38;5;124mInvalid Message:\u001b[39m\u001b[38;5;124m\"\u001b[39m, exc_info\u001b[38;5;241m=\u001b[39m\u001b[38;5;28;01mTrue\u001b[39;00m)\n",
      "\u001b[1;31mKeyboardInterrupt\u001b[0m: Interrupted by user"
     ]
    }
   ],
   "source": [
    "\n",
    "def min_move(pos, goal, max_len):\n",
    "    return (goal - pos)%max_len if (goal - pos)%max_len < (pos - goal)%max_len else (pos - goal)%max_len\n",
    "    # print((goal - pos)%max_len, (pos - goal)%max_len)\n",
    "    # return min((goal - pos)%max_len, (pos - goal)%max_len)\n",
    "\n",
    "\n",
    "\n",
    "len_queue, len_input = map(int, input().split(\" \"))\n",
    "input_list = list(map(int, input().split(\" \")))\n",
    "max_len = len_queue\n",
    "pos = 1\n",
    "move = 0\n",
    "\n",
    "for i in range(len_input):\n",
    "    move += min_move(pos, input_list[i], max_len)\n",
    "    # print(move)\n",
    "    \n",
    "    for j in range(i, len_input):\n",
    "        if(input_list[i]<input_list[j]):\n",
    "            input_list[j] -= 1\n",
    "    \n",
    "    pos = input_list[i]\n",
    "    max_len -= 1\n",
    "    # print(pos)\n",
    "    \n",
    "print(move)"
   ]
  },
  {
   "cell_type": "code",
   "execution_count": null,
   "id": "00cf14a1-029d-4725-a502-eec1f1e33ab9",
   "metadata": {},
   "outputs": [],
   "source": [
    "# 양방향 큐 구현\n",
    "\n",
    "class circular_queue(list):\n",
    "    \"\"\"\n",
    "    원형 큐를 리스트를 상속받아 구현\n",
    "    method ; left(), right()\n",
    "    \"\"\"\n",
    "    \n",
    "    def left(self):\n",
    "        self.append(self.pop(0))\n",
    "        \n",
    "    def right(self):\n",
    "        self.insert(0, self.pop())\n",
    "        \n",
    "    def pop_first(self):\n",
    "        return self.pop(0)\n",
    "        \n",
    "        \n",
    "cq = circular_queue([1, 2, 3, 4, 5])\n",
    "\n",
    "for i in range(5):\n",
    "    cq.left()\n",
    "    print(cq.pop_first())"
   ]
  },
  {
   "cell_type": "markdown",
   "id": "a54049f5-bd04-41ad-a8ed-f4afc1743015",
   "metadata": {},
   "source": [
    "# 양방향 큐 - 회전하는 큐\n",
    "\n",
    "\n",
    "1. 데이터 추출 -> 해당 값이 리스트에서 사라짐 -> 정렬된 리스트에서 중간이 빠짐\n",
    "  -> 입력 리스트와 양뱡향 큐에서 추출한 값보다 큰 모든 값을 1씩 빼면 등차 유지\n",
    "  -> 정방향 이동 : 목표 값 - 현재 값 만큼 이동\n",
    "  -> 역방향 이동 : (현재값 + (최대값 - 목표값)) % 최대값 만큼 이동\n",
    "  -> 이동 후 최대 값 - 1, 목표 값 리스트 내 자신보다 큰 값 -1\n",
    "  \n",
    "  정\n",
    "  1 -> 9 : 9 - 1 = 8 (목표 - 현재)\n",
    "  9 -> 2 : 12 - 9 = 3\n",
    "  \n",
    "  역\n",
    "  2 -> 9 : 12 - 9 = 3(현재 - 목표)\n",
    "  9 -> 1 : 9 - 1 = 8 "
   ]
  },
  {
   "cell_type": "code",
   "execution_count": null,
   "id": "194df604-b326-41a7-92fc-e2cc896ebb21",
   "metadata": {},
   "outputs": [],
   "source": [
    "#정답\n",
    "\n",
    "def left(x):\n",
    "    for _ in range(x):\n",
    "        a=que.pop(0)\n",
    "        que.append(a)\n",
    "\n",
    "def right(x):\n",
    "    for _ in range(x):\n",
    "        a=que.pop()\n",
    "        que.insert(0,a)\n",
    "\n",
    "s=str(input()).split(\" \")\n",
    "s=list(map(int,s))\n",
    "que=[]\n",
    "\n",
    "for i in range(s[0]):\n",
    "    que.append(i+1)\n",
    "    \n",
    "k=str(input()).split(\" \")\n",
    "k=list(map(int,k))\n",
    "result=0\n",
    "\n",
    "for i in k:\n",
    "    l=que.index(i)\n",
    "    \n",
    "    if len(que)//2+1>l:\n",
    "        left(l)\n",
    "        result+=l\n",
    "        que.pop(0)\n",
    "    else:\n",
    "        right(len(que)-l)\n",
    "        result+=len(que)-l\n",
    "        que.pop(0)\n",
    "        \n",
    "print(result)"
   ]
  }
 ],
 "metadata": {
  "kernelspec": {
   "display_name": "Python 3 (ipykernel)",
   "language": "python",
   "name": "python3"
  },
  "language_info": {
   "codemirror_mode": {
    "name": "ipython",
    "version": 3
   },
   "file_extension": ".py",
   "mimetype": "text/x-python",
   "name": "python",
   "nbconvert_exporter": "python",
   "pygments_lexer": "ipython3",
   "version": "3.9.12"
  }
 },
 "nbformat": 4,
 "nbformat_minor": 5
}
