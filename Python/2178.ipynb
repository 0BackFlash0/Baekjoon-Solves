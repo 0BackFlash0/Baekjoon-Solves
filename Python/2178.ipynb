{
 "cells": [
  {
   "cell_type": "code",
   "execution_count": null,
   "metadata": {},
   "outputs": [],
   "source": [
    "def step_map(maze):\n",
    "    max_r = len(maze)\n",
    "    max_c = len(maze[0])\n",
    "\n",
    "    step_matrix = [[0 if maze[r][c] == 1 else -1 for c in range(max_c)] for r in range(max_r)]\n",
    "    step_matrix[0][0] = 1\n",
    "    pos = [(0, 0)]\n",
    "\n",
    "    while(len(pos)>0):\n",
    "        r, c = pos.pop(0)\n",
    "\n",
    "        close_pos = [(r+1, c), (r-1, c), (r, c+1), (r, c-1)]\n",
    "\n",
    "        for _r, _c in close_pos:\n",
    "            if(0<=_r<max_r and 0<=_c<max_c and step_matrix[_r][_c]==0):\n",
    "                pos.append((_r, _c))\n",
    "                step_matrix[_r][_c] = step_matrix[r][c] + 1\n",
    "        \n",
    "            # print(\"\\n\".join(list(map(str, step_matrix))))\n",
    "            # print()\n",
    "    \n",
    "    return step_matrix\n",
    "\n",
    "\n",
    "\n",
    "row, column = map(int, input().split())\n",
    "maze = []\n",
    "for _ in range(row):\n",
    "    maze.append(list(map(int, input())))\n",
    "\n",
    "# print(\"\\n\".join(list(map(str, maze))))\n",
    "# print()\n",
    "# print(step_map(maze))\n",
    "print(step_map(maze)[row-1][column-1])"
   ]
  }
 ],
 "metadata": {
  "kernelspec": {
   "display_name": "Python 3.9.13 ('base')",
   "language": "python",
   "name": "python3"
  },
  "language_info": {
   "name": "python",
   "version": "3.9.13"
  },
  "orig_nbformat": 4,
  "vscode": {
   "interpreter": {
    "hash": "a077222d77dfe082b8f1dd562ad70e458ac2ab76993a0b248ab0476e32e9e8dd"
   }
  }
 },
 "nbformat": 4,
 "nbformat_minor": 2
}
