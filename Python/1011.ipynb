{
 "cells": [
  {
   "cell_type": "code",
   "execution_count": null,
   "metadata": {},
   "outputs": [],
   "source": [
    "def fly_space(distance):\n",
    "    warp_time = 0\n",
    "    sum = 0\n",
    "    while(sum<distance):\n",
    "        sum += (warp_time-1)//2 + 1\n",
    "        warp_time += 1\n",
    "        # print(sum)\n",
    "\n",
    "    return warp_time-1\n",
    "\n",
    "\n",
    "n = int(input())\n",
    "for i in range(n):\n",
    "    w, v = map(int, input().split())\n",
    "    print(fly_space(v-w))"
   ]
  },
  {
   "cell_type": "markdown",
   "metadata": {},
   "source": [
    "1 2 4 6 9 12 16 20 25 30 36 42 49\n",
    "\n",
    "1 2 3 4 5  6  7  8  9 10 11 12 13"
   ]
  },
  {
   "cell_type": "code",
   "execution_count": null,
   "metadata": {},
   "outputs": [],
   "source": [
    "# 정답 \n",
    "import sys\n",
    "import math\n",
    " \n",
    "T = int(sys.stdin.readline())\n",
    "results = []\n",
    " \n",
    "for _ in range(T):\n",
    "    x, y = map(int, sys.stdin.readline().split())\n",
    "    distance = y - x\n",
    " \n",
    "    factor = math.ceil(math.sqrt(distance))\n",
    " \n",
    "    flag1 = (factor - 1) ** 2\n",
    "    flag2 = factor ** 2\n",
    " \n",
    "    if distance >= (flag1 + flag2) / 2: res = factor * 2 - 1\n",
    "    else: res = factor * 2 - 2\n",
    " \n",
    "    results.append(res)\n",
    " \n",
    "for result in results:\n",
    "    sys.stdout.write(str(result)+'\\n')"
   ]
  }
 ],
 "metadata": {
  "language_info": {
   "name": "python"
  },
  "orig_nbformat": 4
 },
 "nbformat": 4,
 "nbformat_minor": 2
}
