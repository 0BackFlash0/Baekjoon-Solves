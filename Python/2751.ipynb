{
 "cells": [
  {
   "cell_type": "code",
   "execution_count": 11,
   "id": "b9ac1d77-56f7-49a5-b5d3-fe4eb155a0f4",
   "metadata": {},
   "outputs": [
    {
     "name": "stdin",
     "output_type": "stream",
     "text": [
      " 5\n",
      " 4\n",
      " 3\n",
      " 2\n",
      " 1\n",
      " 0\n"
     ]
    },
    {
     "name": "stdout",
     "output_type": "stream",
     "text": [
      "0\n",
      "1\n",
      "2\n",
      "3\n",
      "4\n"
     ]
    }
   ],
   "source": [
    "# 합병 정렬\n",
    "\n",
    "def mergeSort(sort_list):\n",
    "    \n",
    "    def divide(start, end):\n",
    "        if(end-start<2):\n",
    "            return\n",
    "        \n",
    "        mid = (start+end)//2\n",
    "\n",
    "        divide(start, mid)\n",
    "        divide(mid, end)\n",
    "\n",
    "        merge(start, mid, end)\n",
    "    \n",
    "    \n",
    "    def merge (start, mid, end):\n",
    "        temp_list = []\n",
    "        i = start\n",
    "        j = mid\n",
    "\n",
    "        while(i<mid and j<end):\n",
    "            if(sort_list[i]<sort_list[j]):\n",
    "                temp_list.append(sort_list[i])\n",
    "                i += 1\n",
    "            else:\n",
    "                temp_list.append(sort_list[j])\n",
    "                j += 1\n",
    "\n",
    "        while (i<mid):\n",
    "            temp_list.append(sort_list[i])\n",
    "            i += 1\n",
    "        while (j<end):\n",
    "            temp_list.append(sort_list[j])\n",
    "            j += 1\n",
    "\n",
    "        for k, temp in enumerate(temp_list):\n",
    "            sort_list[start+k] = temp\n",
    "            \n",
    "            \n",
    "    return divide(0, len(sort_list))\n",
    "\n",
    "\n",
    "case_num = int(input())\n",
    "num_list = [0]*case_num\n",
    "\n",
    "for i in range(case_num):\n",
    "    num_list[i] = int(input())\n",
    "    \n",
    "mergeSort(num_list)\n",
    "    \n",
    "for n in num_list:\n",
    "    print(n)"
   ]
  }
 ],
 "metadata": {
  "kernelspec": {
   "display_name": "Python 3 (ipykernel)",
   "language": "python",
   "name": "python3"
  },
  "language_info": {
   "codemirror_mode": {
    "name": "ipython",
    "version": 3
   },
   "file_extension": ".py",
   "mimetype": "text/x-python",
   "name": "python",
   "nbconvert_exporter": "python",
   "pygments_lexer": "ipython3",
   "version": "3.9.12"
  }
 },
 "nbformat": 4,
 "nbformat_minor": 5
}
