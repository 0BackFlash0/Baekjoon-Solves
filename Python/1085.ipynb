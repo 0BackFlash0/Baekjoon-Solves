{
 "cells": [
  {
   "cell_type": "code",
   "execution_count": 10,
   "id": "defcd1e7-48d1-4d05-8dfa-db20b9aa9838",
   "metadata": {},
   "outputs": [
    {
     "name": "stdin",
     "output_type": "stream",
     "text": [
      " 161 181 762 375\n"
     ]
    },
    {
     "name": "stdout",
     "output_type": "stream",
     "text": [
      "161 181 762 375\n",
      "161\n"
     ]
    }
   ],
   "source": [
    "x, y, w, h = map(int, input().split(\" \"))\n",
    "#print(x, y, w, h)\n",
    "\n",
    "min_x_length = x if w-x>x else w-x\n",
    "min_y_length = y if h-y>y else h-y\n",
    "\n",
    "print(min_x_length if min_x_length<min_y_length else min_y_length)"
   ]
  },
  {
   "cell_type": "code",
   "execution_count": null,
   "id": "496b1d2d-8928-41b4-9b7e-e51b9ea395c7",
   "metadata": {},
   "outputs": [],
   "source": [
    "#정답\n",
    "\n",
    "x,y,w,h=map(int,input().split())\n",
    "print(min(x,y,w-x,h-y))"
   ]
  }
 ],
 "metadata": {
  "kernelspec": {
   "display_name": "Python 3 (ipykernel)",
   "language": "python",
   "name": "python3"
  },
  "language_info": {
   "codemirror_mode": {
    "name": "ipython",
    "version": 3
   },
   "file_extension": ".py",
   "mimetype": "text/x-python",
   "name": "python",
   "nbconvert_exporter": "python",
   "pygments_lexer": "ipython3",
   "version": "3.9.12"
  }
 },
 "nbformat": 4,
 "nbformat_minor": 5
}
