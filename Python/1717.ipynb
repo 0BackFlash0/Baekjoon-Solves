{
 "cells": [
  {
   "cell_type": "code",
   "execution_count": null,
   "metadata": {},
   "outputs": [],
   "source": [
    "import sys\n",
    "input = sys.stdin.readline\n",
    "\n",
    "class Node:\n",
    "    def __init__(self):\n",
    "\n",
    "        self.parent = None\n",
    "\n",
    "    def setParent(self, parent):\n",
    "        self.parent = parent\n",
    "    \n",
    "    def getRoot(self, compress=True):\n",
    "        if(self.parent==None):\n",
    "            return self\n",
    "        \n",
    "        result = self.parent.getRoot()\n",
    "        if(compress):\n",
    "            self.setParent(result)\n",
    "\n",
    "        return result\n",
    "\n",
    "\n",
    "\n",
    "n, m = map(int, input().split())\n",
    "\n",
    "nodes = [Node() for i in range(n+1)]\n",
    "\n",
    "for _ in range(m):\n",
    "    oper, a, b = map(int, input().split())\n",
    "\n",
    "    a_root = nodes[a].getRoot()\n",
    "    b_root = nodes[b].getRoot()\n",
    "    is_union = b_root == a_root\n",
    "    if(oper==0):\n",
    "        if(not is_union): \n",
    "            b_root.setParent(a_root)\n",
    "    else:\n",
    "        print(\"YES\" if is_union else \"NO\")\n",
    "    "
   ]
  }
 ],
 "metadata": {
  "kernelspec": {
   "display_name": "Python 3",
   "language": "python",
   "name": "python3"
  },
  "language_info": {
   "name": "python",
   "version": "3.10.9 (tags/v3.10.9:1dd9be6, Dec  6 2022, 20:01:21) [MSC v.1934 64 bit (AMD64)]"
  },
  "orig_nbformat": 4,
  "vscode": {
   "interpreter": {
    "hash": "7b1f2b33e866b0bf2409397e5f58ba9cdf170d3b7f64c8f359c79998e2f88ad4"
   }
  }
 },
 "nbformat": 4,
 "nbformat_minor": 2
}
