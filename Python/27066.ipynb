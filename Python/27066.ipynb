{
 "cells": [
  {
   "cell_type": "code",
   "execution_count": null,
   "metadata": {},
   "outputs": [],
   "source": [
    "def max_score(nums, n):\n",
    "    nums.sort(reverse=True)\n",
    "\n",
    "    avg = sum(nums) / n\n",
    "    large_2 = nums[0]\n",
    "    if(n>1):\n",
    "        large_2 = nums[1]\n",
    "\n",
    "    return max(avg, large_2)\n",
    "\n",
    "\n",
    "n = int(input())\n",
    "nums = list(map(int,input().split()))\n",
    "\n",
    "print(max_score(nums, n))\n"
   ]
  }
 ],
 "metadata": {
  "kernelspec": {
   "display_name": "Python 3",
   "language": "python",
   "name": "python3"
  },
  "language_info": {
   "name": "python",
   "version": "3.10.8 (tags/v3.10.8:aaaf517, Oct 11 2022, 16:50:30) [MSC v.1933 64 bit (AMD64)]"
  },
  "orig_nbformat": 4,
  "vscode": {
   "interpreter": {
    "hash": "7b1f2b33e866b0bf2409397e5f58ba9cdf170d3b7f64c8f359c79998e2f88ad4"
   }
  }
 },
 "nbformat": 4,
 "nbformat_minor": 2
}
