{
 "cells": [
  {
   "cell_type": "code",
   "execution_count": null,
   "id": "31565a41-e978-434c-874c-7fabade244e3",
   "metadata": {},
   "outputs": [],
   "source": []
  },
  {
   "cell_type": "code",
   "execution_count": 24,
   "id": "d3f92384-1d34-4f2c-8535-1f9195b2db7b",
   "metadata": {},
   "outputs": [
    {
     "name": "stdin",
     "output_type": "stream",
     "text": [
      " 2 2\n",
      " 12\n",
      " 34\n"
     ]
    },
    {
     "name": "stdout",
     "output_type": "stream",
     "text": [
      "1\n"
     ]
    }
   ],
   "source": [
    "## 정사각형\n",
    "\n",
    "def search_square(num_matrix, row, column):\n",
    "    def search(row, column): \n",
    "        max_size = max(row, column)\n",
    "        for size in range(max_size, 0, -1):\n",
    "            for r in range(0, row-size+1):\n",
    "                for c in range(0, column-size+1):\n",
    "                    if check_square(r, c, size):\n",
    "                        return size*size\n",
    "                \n",
    "    def check_square(r, c, size):\n",
    "        n = num_matrix[r][c]\n",
    "        #print(size, n, num_matrix[r+size-1][c], num_matrix[r][c+size-1], num_matrix[r+size-1][c+size-1])\n",
    "        return num_matrix[r+size-1][c] == n and num_matrix[r][c+size-1] == n and num_matrix[r+size-1][c+size-1] == n\n",
    "    \n",
    "    return search(row, column)\n",
    "    \n",
    "    \n",
    "row, column = map(int, input().split(\" \"))\n",
    "matrix = []\n",
    "for _ in range(row):\n",
    "    matrix.append(list(map(int, input())))\n",
    "print(search_square(matrix, row, column))\n"
   ]
  },
  {
   "cell_type": "markdown",
   "id": "f16bb6ee-6a27-4862-8153-2942f3611db4",
   "metadata": {},
   "source": [
    "# 정사각형 찾기\n",
    "\n",
    "큰 정사각형부터 작은 정사각형까지 탐색\n",
    "찾으면 바로 return"
   ]
  },
  {
   "cell_type": "code",
   "execution_count": null,
   "id": "26d85e5d-1c65-43b2-8891-4433637d6446",
   "metadata": {},
   "outputs": [],
   "source": [
    "N, M = [int(_) for _ in input().split(' ')]\n",
    "data = [input() for _ in range(N)]\n",
    "\n",
    "def findResult(N, M, data):\n",
    "    for diff in reversed(range(min(N, M))):\n",
    "        for leftTopR in range(N-diff):\n",
    "            for leftTopC in range(M-diff):\n",
    "                if data[leftTopR][leftTopC] == data[leftTopR + diff][leftTopC] == data[leftTopR][leftTopC + diff] == data[leftTopR + diff][leftTopC + diff]:\n",
    "                    return (diff + 1) ** 2\n",
    "    return 1\n",
    "\n",
    "print(findResult(N, M, data))\n"
   ]
  }
 ],
 "metadata": {
  "kernelspec": {
   "display_name": "Python 3 (ipykernel)",
   "language": "python",
   "name": "python3"
  },
  "language_info": {
   "codemirror_mode": {
    "name": "ipython",
    "version": 3
   },
   "file_extension": ".py",
   "mimetype": "text/x-python",
   "name": "python",
   "nbconvert_exporter": "python",
   "pygments_lexer": "ipython3",
   "version": "3.9.15"
  }
 },
 "nbformat": 4,
 "nbformat_minor": 5
}
