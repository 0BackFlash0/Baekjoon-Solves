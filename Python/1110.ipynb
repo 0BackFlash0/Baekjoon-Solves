{
 "cells": [
  {
   "cell_type": "code",
   "execution_count": 9,
   "id": "954a8584-4b7d-4ce1-8fee-f6b83657402f",
   "metadata": {},
   "outputs": [
    {
     "name": "stdin",
     "output_type": "stream",
     "text": [
      " 1\n"
     ]
    },
    {
     "name": "stdout",
     "output_type": "stream",
     "text": [
      "[1, 1]\n",
      "[1, 2]\n",
      "[2, 3]\n",
      "[3, 5]\n",
      "[5, 8]\n",
      "[8, 3]\n",
      "[3, 1]\n",
      "[1, 4]\n",
      "[4, 5]\n",
      "[5, 9]\n",
      "[9, 4]\n",
      "[4, 3]\n",
      "[3, 7]\n",
      "[7, 0]\n",
      "[0, 7]\n",
      "[7, 7]\n",
      "[7, 4]\n",
      "[4, 1]\n",
      "[1, 5]\n",
      "[5, 6]\n",
      "[6, 1]\n",
      "[1, 7]\n",
      "[7, 8]\n",
      "[8, 5]\n",
      "[5, 3]\n",
      "[3, 8]\n",
      "[8, 1]\n",
      "[1, 9]\n",
      "[9, 0]\n",
      "[0, 9]\n",
      "[9, 9]\n",
      "[9, 8]\n",
      "[8, 7]\n",
      "[7, 5]\n",
      "[5, 2]\n",
      "[2, 7]\n",
      "[7, 9]\n",
      "[9, 6]\n",
      "[6, 5]\n",
      "[5, 1]\n",
      "[1, 6]\n",
      "[6, 7]\n",
      "[7, 3]\n",
      "[3, 0]\n",
      "[0, 3]\n",
      "[3, 3]\n",
      "[3, 6]\n",
      "[6, 9]\n",
      "[9, 5]\n",
      "[5, 4]\n",
      "[4, 9]\n",
      "[9, 3]\n",
      "[3, 2]\n",
      "[2, 5]\n",
      "[5, 7]\n",
      "[7, 2]\n",
      "[2, 9]\n",
      "[9, 1]\n",
      "[1, 0]\n",
      "[0, 1]\n",
      "60\n"
     ]
    }
   ],
   "source": [
    "num_list = list(input())\n",
    "\n",
    "for i in range(0, len(num_list)):\n",
    "    num_list[i] = int(num_list[i])\n",
    "\n",
    "if(len(num_list)==1):\n",
    "    num_list.insert(0, 0)\n",
    "\n",
    "#print(num_list)\n",
    "origin_list = num_list.copy()\n",
    "try_num = 0;\n",
    "while True:\n",
    "    num_list.append((num_list[0]+num_list[-1])%10)\n",
    "    del num_list[0]\n",
    "    try_num += 1\n",
    "    #print(num_list)\n",
    "    if num_list==origin_list:\n",
    "        break\n",
    "        \n",
    "print(try_num)"
   ]
  },
  {
   "cell_type": "code",
   "execution_count": 10,
   "id": "2d8feca9-06d9-44fb-875b-ac7b73b072ae",
   "metadata": {},
   "outputs": [
    {
     "name": "stdin",
     "output_type": "stream",
     "text": [
      " 1\n"
     ]
    },
    {
     "name": "stdout",
     "output_type": "stream",
     "text": [
      "60\n"
     ]
    }
   ],
   "source": [
    "#정답\n",
    "a=int(input())\n",
    "c=a\n",
    "k=0\n",
    "N=999\n",
    "while c!=N:\n",
    "\tif a<10:\n",
    "\t\ttens=0\n",
    "\telse:\n",
    "\t\ttens=a//10\n",
    "\tunits=a%10\n",
    "\ts=tens+units\n",
    "\tr=s%10\n",
    "\tN=units*10+r\n",
    "\tk+=1\n",
    "\ta=N\n",
    "print(k)"
   ]
  }
 ],
 "metadata": {
  "kernelspec": {
   "display_name": "Python 3 (ipykernel)",
   "language": "python",
   "name": "python3"
  },
  "language_info": {
   "codemirror_mode": {
    "name": "ipython",
    "version": 3
   },
   "file_extension": ".py",
   "mimetype": "text/x-python",
   "name": "python",
   "nbconvert_exporter": "python",
   "pygments_lexer": "ipython3",
   "version": "3.9.12"
  }
 },
 "nbformat": 4,
 "nbformat_minor": 5
}
