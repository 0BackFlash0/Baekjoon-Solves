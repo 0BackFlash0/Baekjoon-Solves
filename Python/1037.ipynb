{
 "cells": [
  {
   "cell_type": "code",
   "execution_count": 10,
   "id": "89f6b694-d2df-400d-beaf-a24a0367e3ea",
   "metadata": {},
   "outputs": [
    {
     "name": "stdin",
     "output_type": "stream",
     "text": [
      " 6\n",
      " 3 4 2 12 6 8\n"
     ]
    },
    {
     "name": "stdout",
     "output_type": "stream",
     "text": [
      "24\n"
     ]
    }
   ],
   "source": [
    "arr_length = int(input())\n",
    "divisor_list = list(map(int,input().split(\" \")))\n",
    "\n",
    "#가장 간단한 코드\n",
    "#print(max(divisor_list) * min(divisor_list))\n",
    "\n",
    "min_divisor = divisor_list[0]\n",
    "max_divisor = divisor_list[0]\n",
    "for div in divisor_list:\n",
    "    if (min_divisor>div):\n",
    "        min_divisor = div\n",
    "    elif (max_divisor<div):\n",
    "        max_divisor = div\n",
    "        \n",
    "print(min_divisor * max_divisor)"
   ]
  }
 ],
 "metadata": {
  "kernelspec": {
   "display_name": "Python 3 (ipykernel)",
   "language": "python",
   "name": "python3"
  },
  "language_info": {
   "codemirror_mode": {
    "name": "ipython",
    "version": 3
   },
   "file_extension": ".py",
   "mimetype": "text/x-python",
   "name": "python",
   "nbconvert_exporter": "python",
   "pygments_lexer": "ipython3",
   "version": "3.9.12"
  }
 },
 "nbformat": 4,
 "nbformat_minor": 5
}
