{
 "cells": [
  {
   "cell_type": "code",
   "execution_count": 11,
   "id": "1f74932a-6909-4ca9-8beb-219d880ae9d9",
   "metadata": {},
   "outputs": [
    {
     "name": "stdin",
     "output_type": "stream",
     "text": [
      " 3\n",
      " -5 1 5 1\n"
     ]
    },
    {
     "name": "stdout",
     "output_type": "stream",
     "text": [
      "시작 좌표 : [-5, 1] 끝 좌표 : [5, 1]\n"
     ]
    },
    {
     "name": "stdin",
     "output_type": "stream",
     "text": [
      " 3\n",
      " 0 0 2\n"
     ]
    },
    {
     "name": "stdout",
     "output_type": "stream",
     "text": [
      "성공여부 : False\n"
     ]
    },
    {
     "name": "stdin",
     "output_type": "stream",
     "text": [
      " -6 1 2\n"
     ]
    },
    {
     "name": "stdout",
     "output_type": "stream",
     "text": [
      "성공여부 : True\n"
     ]
    },
    {
     "name": "stdin",
     "output_type": "stream",
     "text": [
      " 6 2 2\n"
     ]
    },
    {
     "name": "stdout",
     "output_type": "stream",
     "text": [
      "성공여부 : True\n",
      "2\n"
     ]
    },
    {
     "name": "stdin",
     "output_type": "stream",
     "text": [
      " 2 3 13 2\n"
     ]
    },
    {
     "name": "stdout",
     "output_type": "stream",
     "text": [
      "시작 좌표 : [2, 3] 끝 좌표 : [13, 2]\n"
     ]
    },
    {
     "name": "stdin",
     "output_type": "stream",
     "text": [
      " 8\n",
      " -3 -1 1\n"
     ]
    },
    {
     "name": "stdout",
     "output_type": "stream",
     "text": [
      "성공여부 : False\n"
     ]
    },
    {
     "name": "stdin",
     "output_type": "stream",
     "text": [
      " 2 2 3\n"
     ]
    },
    {
     "name": "stdout",
     "output_type": "stream",
     "text": [
      "성공여부 : True\n"
     ]
    },
    {
     "name": "stdin",
     "output_type": "stream",
     "text": [
      " 2 3 1\n"
     ]
    },
    {
     "name": "stdout",
     "output_type": "stream",
     "text": [
      "성공여부 : True\n"
     ]
    },
    {
     "name": "stdin",
     "output_type": "stream",
     "text": [
      " 0 1 7\n"
     ]
    },
    {
     "name": "stdout",
     "output_type": "stream",
     "text": [
      "성공여부 : True\n"
     ]
    },
    {
     "name": "stdin",
     "output_type": "stream",
     "text": [
      " -4 5 1\n"
     ]
    },
    {
     "name": "stdout",
     "output_type": "stream",
     "text": [
      "성공여부 : False\n"
     ]
    },
    {
     "name": "stdin",
     "output_type": "stream",
     "text": [
      " 12 1 1\n"
     ]
    },
    {
     "name": "stdout",
     "output_type": "stream",
     "text": [
      "성공여부 : False\n"
     ]
    },
    {
     "name": "stdin",
     "output_type": "stream",
     "text": [
      " 12 1 2\n"
     ]
    },
    {
     "name": "stdout",
     "output_type": "stream",
     "text": [
      "성공여부 : True\n"
     ]
    },
    {
     "name": "stdin",
     "output_type": "stream",
     "text": [
      " 12 1 3\n"
     ]
    },
    {
     "name": "stdout",
     "output_type": "stream",
     "text": [
      "성공여부 : True\n",
      "5\n"
     ]
    },
    {
     "name": "stdin",
     "output_type": "stream",
     "text": [
      " 102 16 19 -108\n"
     ]
    },
    {
     "name": "stdout",
     "output_type": "stream",
     "text": [
      "시작 좌표 : [102, 16] 끝 좌표 : [19, -108]\n"
     ]
    },
    {
     "name": "stdin",
     "output_type": "stream",
     "text": [
      " 12\n",
      " -107 175 135\n"
     ]
    },
    {
     "name": "stdout",
     "output_type": "stream",
     "text": [
      "성공여부 : False\n"
     ]
    },
    {
     "name": "stdin",
     "output_type": "stream",
     "text": [
      " -38 -115 42\n"
     ]
    },
    {
     "name": "stdout",
     "output_type": "stream",
     "text": [
      "성공여부 : False\n"
     ]
    },
    {
     "name": "stdin",
     "output_type": "stream",
     "text": [
      " 140 23 70\n"
     ]
    },
    {
     "name": "stdout",
     "output_type": "stream",
     "text": [
      "성공여부 : True\n"
     ]
    },
    {
     "name": "stdin",
     "output_type": "stream",
     "text": [
      " 148 -2 39\n"
     ]
    },
    {
     "name": "stdout",
     "output_type": "stream",
     "text": [
      "성공여부 : False\n"
     ]
    },
    {
     "name": "stdin",
     "output_type": "stream",
     "text": [
      " -198 -49 89\n"
     ]
    },
    {
     "name": "stdout",
     "output_type": "stream",
     "text": [
      "성공여부 : False\n"
     ]
    },
    {
     "name": "stdin",
     "output_type": "stream",
     "text": [
      " 172 -151 39\n"
     ]
    },
    {
     "name": "stdout",
     "output_type": "stream",
     "text": [
      "성공여부 : False\n"
     ]
    },
    {
     "name": "stdin",
     "output_type": "stream",
     "text": [
      " -179 -52 43\n"
     ]
    },
    {
     "name": "stdout",
     "output_type": "stream",
     "text": [
      "성공여부 : False\n"
     ]
    },
    {
     "name": "stdin",
     "output_type": "stream",
     "text": [
      " 148 42 150\n"
     ]
    },
    {
     "name": "stdout",
     "output_type": "stream",
     "text": [
      "성공여부 : True\n"
     ]
    },
    {
     "name": "stdin",
     "output_type": "stream",
     "text": [
      " 176 0 10\n"
     ]
    },
    {
     "name": "stdout",
     "output_type": "stream",
     "text": [
      "성공여부 : False\n"
     ]
    },
    {
     "name": "stdin",
     "output_type": "stream",
     "text": [
      " 153 68 120\n"
     ]
    },
    {
     "name": "stdout",
     "output_type": "stream",
     "text": [
      "성공여부 : True\n"
     ]
    },
    {
     "name": "stdin",
     "output_type": "stream",
     "text": [
      " -56 109 16\n"
     ]
    },
    {
     "name": "stdout",
     "output_type": "stream",
     "text": [
      "성공여부 : False\n"
     ]
    },
    {
     "name": "stdin",
     "output_type": "stream",
     "text": [
      " -187 -174 8\n"
     ]
    },
    {
     "name": "stdout",
     "output_type": "stream",
     "text": [
      "성공여부 : False\n",
      "3\n"
     ]
    }
   ],
   "source": [
    "import math\n",
    "\n",
    "def dist_2point(point1, point2):\n",
    "    # \"\"\"\n",
    "    # 두 점 사이의 거리\n",
    "    # parameter:\n",
    "    #     point1 : [x, y] - x, y 좌표를 가진 리스트\n",
    "    #     point2 : [x, y] - x, y 좌표를 가진 리스트2\n",
    "    # return : point1과 point2 사이의 거리\n",
    "    # \"\"\"\n",
    "    return math.sqrt(math.pow(point2[0]-point1[0], 2) + math.pow(point2[1]-point1[1], 2))\n",
    "\n",
    "\n",
    "def isincircle(point, circle):\n",
    "    # \"\"\"\n",
    "    # point가 circle안에 존재하는지 확인.\n",
    "    # parameter:\n",
    "    #     point: [x,y] - x, y 좌표를 가진 리스트\n",
    "    #     circle: [x,y,r] - x, y 좌표와 반지름 r을 가진 리스트\n",
    "    # return : point가 circle 원 안에 존재한다면 True, 아니면 False\n",
    "    # \"\"\"\n",
    "    return dist_2point(point, circle[:2]) <= circle[2]\n",
    "\n",
    "\n",
    "case_num = int(input())\n",
    "\n",
    "for _ in range(case_num):\n",
    "    start_p, finish_p = [0, 0], [0, 0]\n",
    "    start_p[0], start_p[1], finish_p[0], finish_p[1] = map(int, input().split(\" \"))\n",
    "    #print(\"시작 좌표 :\", start_p, \"끝 좌표 :\", finish_p)\n",
    "\n",
    "    pass_num = 0\n",
    "    circle_num = int(input())\n",
    "    for _ in range(circle_num):\n",
    "        circle = list(map(int, input().split(\" \")))\n",
    "        pass_num += int(isincircle(start_p, circle) != isincircle(finish_p, circle))\n",
    "        #print(\"성공여부 :\", isincircle(start_p, circle) != isincircle(finish_p, circle))\n",
    "        \n",
    "    print(pass_num)\n",
    "        "
   ]
  },
  {
   "cell_type": "markdown",
   "id": "365fff80-bb4a-4cd0-aeee-96a64685fbc0",
   "metadata": {},
   "source": [
    "# 어린 왕자\n",
    "\n",
    "### 출발에서 도착까지 행성계에 최소한으로 진입/이탈하며 가는 방법\n",
    "\n",
    "1. 출발지/도착지가 안에 존재하는 원의 개수\n",
    "2. 같은 원에 존재한다면, 제외시킨다.\n",
    "\n",
    "- - - \n",
    "\n",
    "1. 출발지/도착지의 위치 입력\n",
    "2. 원을 입력받을 때, 출발지/도착지가 각각 원의 다른 공간에 위치하는지 확인한다.\n",
    "3. 다른 공간이라면, +1"
   ]
  },
  {
   "cell_type": "markdown",
   "id": "e25e5e76-4c53-49af-a246-bafd9fec933d",
   "metadata": {},
   "source": [
    "# 정답\n",
    "import sys\n",
    "import math\n",
    "Input = sys.stdin.readline\n",
    "Print = sys.stdout.write\n",
    "\n",
    "distance = lambda x1, y1, x2, y2: math.sqrt(pow(x1-x2, 2) + pow(y1-y2, 2))\n",
    "\n",
    "for _ in range(int(input())):\n",
    "    x1, y1, x2, y2 = map(float, Input().split())\n",
    "    n = 0\n",
    "    for _ in range(int(sys.stdin.readline())):\n",
    "        cx, cy, r = map(float, Input().split())\n",
    "        d1 = distance(x1, y1, cx, cy)\n",
    "        d2 = distance(x2, y2, cx, cy)\n",
    "        n += int((d1 > r) ^ (d2 > r))\n",
    "    Print(\"%d\\n\" % n)"
   ]
  }
 ],
 "metadata": {
  "kernelspec": {
   "display_name": "Python 3 (ipykernel)",
   "language": "python",
   "name": "python3"
  },
  "language_info": {
   "codemirror_mode": {
    "name": "ipython",
    "version": 3
   },
   "file_extension": ".py",
   "mimetype": "text/x-python",
   "name": "python",
   "nbconvert_exporter": "python",
   "pygments_lexer": "ipython3",
   "version": "3.9.12"
  }
 },
 "nbformat": 4,
 "nbformat_minor": 5
}
