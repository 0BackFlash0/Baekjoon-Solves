{
 "cells": [
  {
   "cell_type": "code",
   "execution_count": null,
   "metadata": {},
   "outputs": [],
   "source": [
    "a, b, c = map(int, input().split())\n",
    "\n",
    "\n",
    "n = 1\n",
    "num = a%c\n",
    "\n",
    "mod_list = [num]\n",
    "cur_num = num\n",
    "\n",
    "rest = 0\n",
    "\n",
    "while n < b:\n",
    "    cur_num *= num\n",
    "    cur_num %= c\n",
    "\n",
    "    if(cur_num in mod_list):\n",
    "        \n",
    "        rest = mod_list.index(cur_num)\n",
    "        mod_list = mod_list[rest:len(mod_list)]\n",
    "        break\n",
    "\n",
    "    mod_list.append(cur_num)\n",
    "    n += 1\n",
    "\n",
    "print(rest)\n",
    "print(mod_list)\n",
    "print(mod_list[(b-1-rest)%len(mod_list)])\n"
   ]
  },
  {
   "cell_type": "code",
   "execution_count": null,
   "metadata": {},
   "outputs": [],
   "source": [
    "import sys\n",
    "input = sys.stdin.readline\n",
    "\n",
    "def involution_mod(x, n, mod_val):\n",
    "    if(n%2==0):\n",
    "        return (involution_mod(x, n//2, mod_val)**2)%mod_val\n",
    "    else: \n",
    "        if(n==1):\n",
    "            return x%mod_val\n",
    "        return (involution_mod(x, n//2, mod_val)**2 * x)%mod_val\n",
    "\n",
    "a, b, c = map(int, input().split())\n",
    "\n",
    "\n",
    "print(involution_mod(a, b, c))\n"
   ]
  }
 ],
 "metadata": {
  "kernelspec": {
   "display_name": "Python 3",
   "language": "python",
   "name": "python3"
  },
  "language_info": {
   "name": "python",
   "version": "3.10.9 (tags/v3.10.9:1dd9be6, Dec  6 2022, 20:01:21) [MSC v.1934 64 bit (AMD64)]"
  },
  "orig_nbformat": 4,
  "vscode": {
   "interpreter": {
    "hash": "7b1f2b33e866b0bf2409397e5f58ba9cdf170d3b7f64c8f359c79998e2f88ad4"
   }
  }
 },
 "nbformat": 4,
 "nbformat_minor": 2
}
