{
 "cells": [
  {
   "cell_type": "code",
   "execution_count": null,
   "metadata": {},
   "outputs": [],
   "source": [
    "import math\n",
    "# import sys\n",
    "# input = sys.stdin.buffer.readline\n",
    "\n",
    "##평균 길이 구하기.\n",
    "\n",
    "##모자란 길이 구하기.\n",
    "\n",
    "def div_lan(lan_list, n, k):\n",
    "    lan_list.sort(reverse=True)\n",
    "\n",
    "    start_divisor = math.ceil(k/n)\n",
    "    #현재까지 가능한 pivot값들 중 가장 큰 값\n",
    "    start_pivot = lan_list[0]//math.ceil(k/n)\n",
    "    max_pivot = 0\n",
    "    for lan in lan_list:\n",
    "        #start_divisor에서부터 k+1까지 반복한다.\n",
    "        if(lan//start_pivot==0):\n",
    "            break\n",
    "        for div in range(lan//start_pivot, k+1):\n",
    "            pivot = lan//div\n",
    "            total_lan = sum(map(lambda s : s//pivot, lan_list))\n",
    "            if(total_lan==k):\n",
    "                return pivot\n",
    "            elif(total_lan>k):\n",
    "                if(max_pivot<pivot):\n",
    "                    max_pivot = pivot\n",
    "                    start_pivot = max_pivot\n",
    "                break\n",
    "    return max_pivot\n",
    "    \n",
    "    \n",
    "\n",
    "n, k = map(int, input().split())\n",
    "lan_list = [int(input()) for _ in range(n)]\n",
    "\n",
    "print(div_lan(lan_list, n, k))"
   ]
  },
  {
   "cell_type": "code",
   "execution_count": null,
   "metadata": {},
   "outputs": [],
   "source": [
    "# 이진탐색 사용\n",
    "import sys\n",
    "input = sys.stdin.readline\n",
    "\n",
    "\n",
    "def cut_cable(new_cable):\n",
    "    result = 0\n",
    "\n",
    "    for cable in cables:\n",
    "        result += cable // new_cable\n",
    "\n",
    "    return result\n",
    "\n",
    "def check_cables(cable):\n",
    "    if cut_cable(cable) >= n:\n",
    "        return True\n",
    "\n",
    "    if cut_cable(cable) < n:\n",
    "        return False\n",
    "\n",
    "\n",
    "k, n = map(int, input().split())\n",
    "\n",
    "cables = [int(input()) for _ in range(k)]\n",
    "\n",
    "# n개를 무조건 만들 수 있는 랜선의 최소 길이\n",
    "start = 1\n",
    "\n",
    "# 랜선을 무조건 만들 수 없는 랜선의 최소 길이\n",
    "end = max(cables) + 1\n",
    "\n",
    "while start + 1 < end:\n",
    "    mid = (start + end) // 2\n",
    "\n",
    "    if check_cables(mid):\n",
    "        start = mid\n",
    "    else:\n",
    "        end = mid\n",
    "\n",
    "print(start)"
   ]
  }
 ],
 "metadata": {
  "kernelspec": {
   "display_name": "Python 3.9.13 ('base')",
   "language": "python",
   "name": "python3"
  },
  "language_info": {
   "name": "python"
  },
  "orig_nbformat": 4,
  "vscode": {
   "interpreter": {
    "hash": "a077222d77dfe082b8f1dd562ad70e458ac2ab76993a0b248ab0476e32e9e8dd"
   }
  }
 },
 "nbformat": 4,
 "nbformat_minor": 2
}
