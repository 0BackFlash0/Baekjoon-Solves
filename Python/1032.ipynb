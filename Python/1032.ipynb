{
 "cells": [
  {
   "cell_type": "code",
   "execution_count": 6,
   "id": "9c1acc39-f28c-4124-8c0b-f31106eeee97",
   "metadata": {},
   "outputs": [
    {
     "name": "stdin",
     "output_type": "stream",
     "text": [
      " 3\n",
      " 1 2\n",
      " 3 4\n",
      " 5 6\n"
     ]
    },
    {
     "name": "stdout",
     "output_type": "stream",
     "text": [
      "? ?\n"
     ]
    }
   ],
   "source": [
    "filenum = int(input())\n",
    "filelist = []\n",
    "\n",
    "for i in range(0, filenum) :\n",
    "    filelist.append(list(input()))\n",
    "\n",
    "pattern = filelist.pop()\n",
    "#print(pattern)\n",
    "\n",
    "\n",
    "for i in range(0,len(pattern)):\n",
    "    for j in range(0, len(filelist)):\n",
    "        #print(pattern[i], filelist[j][i])\n",
    "        if (pattern[i] != filelist[j][i]):\n",
    "            pattern[i] = '?'\n",
    "            #print(\"다름!\")\n",
    "            break\n",
    "            \n",
    "print(\"\".join(pattern))"
   ]
  },
  {
   "cell_type": "code",
   "execution_count": 5,
   "id": "942fc665-1102-4063-ab35-6714707c4f19",
   "metadata": {},
   "outputs": [
    {
     "name": "stdin",
     "output_type": "stream",
     "text": [
      " 3\n"
     ]
    },
    {
     "name": "stdout",
     "output_type": "stream",
     "text": [
      "\n"
     ]
    }
   ],
   "source": [
    "#답지\n",
    "import sys\n",
    "n=int(input())\n",
    "a=[sys.stdin.readline().strip()for i in range(n)]\n",
    "\n",
    "res=\"\"\n",
    "l=len(a[0])\n",
    "for i in range(l):\n",
    "    c=0\n",
    "    s=a[0][i]\n",
    "    for j in range(1,n):\n",
    "        if s==a[j][i]:\n",
    "            c+=1\n",
    "    if c==n-1: res+=s\n",
    "    else: res+=\"?\"\n",
    "print(res)"
   ]
  }
 ],
 "metadata": {
  "kernelspec": {
   "display_name": "Python 3 (ipykernel)",
   "language": "python",
   "name": "python3"
  },
  "language_info": {
   "codemirror_mode": {
    "name": "ipython",
    "version": 3
   },
   "file_extension": ".py",
   "mimetype": "text/x-python",
   "name": "python",
   "nbconvert_exporter": "python",
   "pygments_lexer": "ipython3",
   "version": "3.9.12"
  }
 },
 "nbformat": 4,
 "nbformat_minor": 5
}
