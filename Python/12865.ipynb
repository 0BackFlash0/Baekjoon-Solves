{
 "cells": [
  {
   "cell_type": "code",
   "execution_count": null,
   "metadata": {},
   "outputs": [],
   "source": [
    "# 현재 무게가 n일때의 최대값 저장\n",
    "# 그거보다 작으면 무효\n",
    "# 합들보다 이전 값이 더 크면 그것도 무효\n",
    "\n",
    "def bag_capacity(weight_value_list, max_weight):\n",
    "    \n",
    "    memorize = [0] * (max_weight+1)\n",
    "\n",
    "    cur_sum_weight = 0\n",
    "    cur_sum_value = 0\n",
    "\n",
    "    for w, v in weight_value_list:\n",
    "        cur_sum_weight += w\n",
    "        cur_sum_value += v\n",
    "        if(cur_sum_weight<max_weight):\n",
    "            for i in range(cur_sum_weight, w-1, -1):\n",
    "                memorize[i] = max(memorize[i], memorize[i-w]+v)\n",
    "            memorize[cur_sum_weight+1:max_weight+1] = [cur_sum_value] * (max_weight-cur_sum_weight)\n",
    "        else:\n",
    "            for i in range(max_weight, w-1, -1):\n",
    "                memorize[i] = max(memorize[i], memorize[i-w]+v)\n",
    "    \n",
    "    return memorize[max_weight]\n",
    "\n",
    "\n",
    "n, max_weight = map(int, input().split())\n",
    "weight_value_list = []\n",
    "for i in range(n):\n",
    "    w, v = map(int, input().split())\n",
    "    weight_value_list.append((w, v))\n",
    "        \n",
    "print(bag_capacity(weight_value_list, max_weight))"
   ]
  },
  {
   "cell_type": "markdown",
   "metadata": {},
   "source": []
  }
 ],
 "metadata": {
  "kernelspec": {
   "display_name": "base",
   "language": "python",
   "name": "python3"
  },
  "language_info": {
   "name": "python",
   "version": "3.9.13 (main, Aug 25 2022, 23:51:50) [MSC v.1916 64 bit (AMD64)]"
  },
  "orig_nbformat": 4,
  "vscode": {
   "interpreter": {
    "hash": "a077222d77dfe082b8f1dd562ad70e458ac2ab76993a0b248ab0476e32e9e8dd"
   }
  }
 },
 "nbformat": 4,
 "nbformat_minor": 2
}
