{
 "cells": [
  {
   "cell_type": "code",
   "execution_count": 2,
   "id": "639a74e6-0105-4357-aece-0b7149664a0b",
   "metadata": {},
   "outputs": [
    {
     "name": "stdin",
     "output_type": "stream",
     "text": [
      " 3\n",
      " 0 0 13 40 0 37\n"
     ]
    },
    {
     "name": "stdout",
     "output_type": "stream",
     "text": [
      "2\n"
     ]
    },
    {
     "name": "stdin",
     "output_type": "stream",
     "text": [
      " 0 0 3 0 7 4\n"
     ]
    },
    {
     "name": "stdout",
     "output_type": "stream",
     "text": [
      "1\n"
     ]
    },
    {
     "name": "stdin",
     "output_type": "stream",
     "text": [
      " 1 1 1 1 1 5\n"
     ]
    },
    {
     "name": "stdout",
     "output_type": "stream",
     "text": [
      "0\n"
     ]
    }
   ],
   "source": [
    "import math\n",
    "\n",
    "def contact_point(x1, y1, r1, x2, y2, r2):\n",
    "    distance = math.sqrt(math.pow(x1-x2, 2)+math.pow(y1-y2, 2))\n",
    "    if(distance==0 and r1==r2):\n",
    "        return -1\n",
    "    \n",
    "    #print(distance)\n",
    "    triangle = [r1, r2, distance]\n",
    "    long = max(triangle)\n",
    "    short_sum = sum(triangle)-long\n",
    "    \n",
    "    if(long<short_sum):\n",
    "        return 2\n",
    "    elif(long>short_sum):\n",
    "        return 0\n",
    "    else:\n",
    "        return 1\n",
    "    \n",
    "#     triangle.sort()\n",
    "#     for i in range(0, len(triangle)):\n",
    "#         for j in range(0, len(triangle)-1-i):\n",
    "#             if(triangle[j]>triangle[j+1]):\n",
    "#                 triangle[j], triangle[j+1] = triangle[j+1], triangle[j]\n",
    "\n",
    "#     #print(triangle)\n",
    "        \n",
    "#     if(triangle[2]<triangle[1]+triangle[0]):\n",
    "#         return 2\n",
    "#     elif(triangle[2]>triangle[1]+triangle[0]):\n",
    "#         return 0\n",
    "#     else:\n",
    "#         return 1\n",
    "\n",
    "\n",
    "\n",
    "case_num = int(input())\n",
    "\n",
    "for _ in range(case_num):\n",
    "    x1, y1, r1, x2, y2, r2 = map(int, input().split(\" \"))\n",
    "    print(contact_point(x1, y1, r1, x2, y2, r2))\n",
    "    "
   ]
  },
  {
   "cell_type": "markdown",
   "id": "49a24332-b487-4116-957b-7e62e22a364a",
   "metadata": {},
   "source": [
    "# 터렛\n",
    "\n",
    "x1, y1에서 거리가 r1인 곳 = x2, y2에서 거리가 r2인 곳\n",
    "\n",
    "-> x1, y1이 중심이고 반지름이 r1인 원과\n",
    "x2, y2가 중심이고 반지름이 r2인 원의 접점\n",
    "\n",
    "접점의 개수 -> 있을 수 있는 좌표의 개수\n",
    "\n",
    "접점의 개수\n",
    "\n",
    "r1>=r2라고 했을때\n",
    "1. distance>r1\n",
    "    distance>r1+r2 : 0\n",
    "    distance==r1+r2 : 1\n",
    "    distance<r1+r2 : 2\n",
    "2. distance<r1\n",
    "   r1>distance+r2 : 0\n",
    "   r1==distance+r2 : 1\n",
    "   r1<distance+r2 : 2\n",
    "                             \n",
    "3. distance=r1\n",
    "               \n",
    "4. distance=r2\n",
    "\n",
    "\n",
    "2, 1, 0, 무한대->-1(원이 동일)"
   ]
  }
 ],
 "metadata": {
  "kernelspec": {
   "display_name": "Python 3 (ipykernel)",
   "language": "python",
   "name": "python3"
  },
  "language_info": {
   "codemirror_mode": {
    "name": "ipython",
    "version": 3
   },
   "file_extension": ".py",
   "mimetype": "text/x-python",
   "name": "python",
   "nbconvert_exporter": "python",
   "pygments_lexer": "ipython3",
   "version": "3.9.12"
  }
 },
 "nbformat": 4,
 "nbformat_minor": 5
}
