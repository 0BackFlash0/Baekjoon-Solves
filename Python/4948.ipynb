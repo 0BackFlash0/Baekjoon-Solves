{
 "cells": [
  {
   "cell_type": "code",
   "execution_count": null,
   "metadata": {},
   "outputs": [],
   "source": [
    "import sys\n",
    "input = sys.stdin.readline\n",
    "import math\n",
    "\n",
    "\n",
    "def find_prime_2n(n):\n",
    "\n",
    "    is_prime_list = [1 for _ in range(2*n + 1)]\n",
    "    is_prime_list[0] = 0\n",
    "    is_prime_list[1] = 0\n",
    "\n",
    "    for i in range(2, int(math.sqrt(2*n))+1):\n",
    "\n",
    "        if(is_prime_list[i]==1):\n",
    "\n",
    "            for not_prime in range(i*i, 2*n+1, i):\n",
    "                is_prime_list[not_prime] = 0\n",
    "\n",
    "    return sum(is_prime_list[n+1:2*n+1])\n",
    "\n",
    "\n",
    "while True:\n",
    "    n = int(input())\n",
    "    if(n==0): break\n",
    "    print(find_prime_2n(n))\n",
    "\n",
    "\n"
   ]
  },
  {
   "cell_type": "code",
   "execution_count": null,
   "metadata": {},
   "outputs": [],
   "source": [
    "#셀프 공부를 위해 주석 정리\n",
    "def get_prime_array(N: int):\n",
    "    # N보다 작은 소수를 모두 출력\n",
    "\n",
    "    if N < 2:\n",
    "        return []\n",
    "    N = N + 1\n",
    "    Sieve = [1] * (N // 2)  # 홀수에 대해서만 Sieve를 구성해서 탐색 범위 감소\n",
    "    for i in range(3, int(N ** 0.5) + 1, 2):  # 3부터 시작되는 홀수에 대해서만 대응 N의 소수는 Root(N+1)보다 클 수 없음\n",
    "        if Sieve[i // 2] == 1:#i가 소수라면 i의 제곱은 소수아님\n",
    "            k = i * i\n",
    "            # Sieve[k//2 : : i] = [0] * ((N-k-1) // (2*i) +1)\n",
    "            for j in range(k // 2, N // 2, i):#i^2부터 i의 배수는 전부 소수아님 처리 제곱 전의 배수들은 전 소수들과의 배수이니 패스\n",
    "                Sieve[j] = 0\n",
    "    return Sieve#만든 소수 배열을 리턴\n",
    "def get_prime_number(A):#소수 목록 반환\n",
    "    # get_prime_array 필요\n",
    "    # 정수를 입력 받으면 해당 정수 보다 작은 소수를 출력\n",
    "\n",
    "    if (type(A) == int):\n",
    "        A = get_prime_array(A)#소수 확인여부의 배열 가져오기\n",
    "\n",
    "    ans = [2]#일단 2는 소수라 넣어둠\n",
    "    for i in range(1, len(A)):#1부터 소수 배열의 길이까지\n",
    "        if A[i] == 1:\n",
    "            ans.append(2 * i + 1)\n",
    "    return ans\n",
    "\n",
    "    # return [2] + [(2 * i + 1) for i in range(1, n // 2) if save[i]]\n",
    "def Search(prime, n):#n=제한값 ex 16\n",
    "    l, r = 0, len(prime) - 1#r은 총 소수 개수 -1\n",
    "    while l <= r:\n",
    "        m = (l + r) // 2#체크 지점\n",
    "\n",
    "        if prime[m] > n:#소수열의 절반지점이 제한값보다 크다면\n",
    "            r = m - 1#제한지점을 축소\n",
    "        else:#소수열의 지점이 제한값보다 작거나 같다면 l은 소수열 지점의 1칸 앞 즉 한칸 앞의 인덱스 값이 제한값 내 소수열 개수\n",
    "            l = m + 1\n",
    "    return l\n",
    "import sys\n",
    "\n",
    "S = get_prime_number(123456 * 2)#문제상 제한 내 모든 소수 목록 가져오기\n",
    "while (1):\n",
    "    N = int(sys.stdin.readline())#값 받고\n",
    "    if N == 0:#0이면 끝\n",
    "        break\n",
    "    print(Search(S, 2 * N) - Search(S, N))#뒤 변수까지의 모든 소수 개수 차이"
   ]
  }
 ],
 "metadata": {
  "kernelspec": {
   "display_name": "Python 3",
   "language": "python",
   "name": "python3"
  },
  "language_info": {
   "name": "python",
   "version": "3.10.9 (tags/v3.10.9:1dd9be6, Dec  6 2022, 20:01:21) [MSC v.1934 64 bit (AMD64)]"
  },
  "orig_nbformat": 4,
  "vscode": {
   "interpreter": {
    "hash": "7b1f2b33e866b0bf2409397e5f58ba9cdf170d3b7f64c8f359c79998e2f88ad4"
   }
  }
 },
 "nbformat": 4,
 "nbformat_minor": 2
}
