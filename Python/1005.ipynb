{
 "cells": [
  {
   "cell_type": "code",
   "execution_count": null,
   "metadata": {},
   "outputs": [],
   "source": [
    "import sys\n",
    "input = sys.stdin.readline\n",
    "sys.setrecursionlimit(2000)\n",
    "\n",
    "def ACM_craft(building_list, time_list, target):\n",
    "\n",
    "    memorize = [None for _ in range(len(building_list))]\n",
    "\n",
    "    def get_max(target):\n",
    "        result = time_list[target]\n",
    "        if(memorize[target]==None):\n",
    "            if(building_list[target]):\n",
    "                result += max(map(get_max, building_list[target]))\n",
    "                memorize[target] = result\n",
    "        else:\n",
    "            result = memorize[target]\n",
    "\n",
    "        return result\n",
    "\n",
    "    return get_max(target)\n",
    "    \n",
    "\n",
    "\n",
    "n = int(input())\n",
    "\n",
    "for _ in range(n):\n",
    "    n, m = map(int, input().split())\n",
    "\n",
    "    building_list = [[] for _ in range(n)]\n",
    "    time_list = list(map(int, input().split()))\n",
    "    for _ in range(m):\n",
    "        start, end = map(int, input().split())\n",
    "\n",
    "        building_list[end-1].append(start-1)\n",
    "    target = int(input())-1\n",
    "    \n",
    "    print(ACM_craft(building_list, time_list, target))"
   ]
  }
 ],
 "metadata": {
  "kernelspec": {
   "display_name": "Python 3",
   "language": "python",
   "name": "python3"
  },
  "language_info": {
   "name": "python",
   "version": "3.10.9 (tags/v3.10.9:1dd9be6, Dec  6 2022, 20:01:21) [MSC v.1934 64 bit (AMD64)]"
  },
  "orig_nbformat": 4,
  "vscode": {
   "interpreter": {
    "hash": "7b1f2b33e866b0bf2409397e5f58ba9cdf170d3b7f64c8f359c79998e2f88ad4"
   }
  }
 },
 "nbformat": 4,
 "nbformat_minor": 2
}
