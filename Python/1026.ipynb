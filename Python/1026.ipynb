{
 "cells": [
  {
   "cell_type": "code",
   "execution_count": 17,
   "id": "2f5249bc-a8ea-4b0e-bae9-e954b3ec9b50",
   "metadata": {},
   "outputs": [
    {
     "name": "stdout",
     "output_type": "stream",
     "text": [
      " 9\n",
      " 5 15 100 31 39 0 0 3 26\n",
      " 11 12 13 2 3 4 5 9 1\n"
     ]
    },
    {
     "name": "stdout",
     "output_type": "stream",
     "text": [
      "528\n"
     ]
    }
   ],
   "source": [
    "#퀵 정렬 (Quick Sort) - pivot을 첫 항목으로\n",
    "\n",
    "def quickSort(sort_list):\n",
    "    \n",
    "    def sort(left, right):\n",
    "        if(left >= right):\n",
    "            return\n",
    "        \n",
    "        l, r = left+1, right\n",
    "        pivot = sort_list[left]\n",
    "        \n",
    "        while(l<r):\n",
    "            while(sort_list[r]>=pivot and l<r):\n",
    "                r -= 1\n",
    "\n",
    "            while(sort_list[l]<=pivot and l<r):\n",
    "                l += 1\n",
    "                \n",
    "            if(l>=r):\n",
    "                break\n",
    "            \n",
    "            sort_list[l], sort_list[r] = sort_list[r], sort_list[l]\n",
    "            #print(pivot,\"기준\", sort_list[r], \"<->\", sort_list[l], sort_list[left:right+1])\n",
    "        if(sort_list[l]<pivot):\n",
    "            sort_list[l], sort_list[left] = sort_list[left], sort_list[l]\n",
    "            #print(\"피벗\", pivot, \"위치 변경\", sort_list[left:right+1])\n",
    "\n",
    "        \n",
    "        sort(left, l-1)\n",
    "        sort(l, right)\n",
    "        \n",
    "        \n",
    "    return sort(0, len(sort_list)-1)\n",
    "    \n",
    "    \n",
    "arr_length = int(input())\n",
    "A = list(map(int, input().split(\" \")))\n",
    "B = list(map(int, input().split(\" \")))\n",
    "\n",
    "quickSort(A)\n",
    "quickSort(B)\n",
    "\n",
    "result = 0\n",
    "for i in range(arr_length):\n",
    "    result += A[i]*B[-1*i-1]\n",
    "\n",
    "print(result)\n"
   ]
  },
  {
   "cell_type": "markdown",
   "id": "c3472cca-2e90-44c1-b404-30633d23341f",
   "metadata": {},
   "source": [
    "\n",
    "S = A[0] × B[0] + ... + A[N-1] × B[N-1]\n",
    "S의 값을 가장 작게 만들기 위해 A의 수를 재배열\n",
    "\n",
    "\n",
    "B의 최대값 x A의 최소값 -> 최소?\n",
    "\n",
    "1. A, B의 순서 배열 구하기(B\"[n] = B에서 n번째로 큰 수의 인덱스)\n",
    "2. B[B\"[n]] * A[A\"[n]]의 합\n"
   ]
  },
  {
   "cell_type": "markdown",
   "id": "36bfdde8-dc3b-45d2-a6ff-1cffe6ddfa53",
   "metadata": {},
   "source": [
    "#간력화, max/min 활용\n",
    "\n",
    "arr_length = int(input())\n",
    "A = list(map(int, input().split(\" \")))\n",
    "B = list(map(int, input().split(\" \")))\n",
    "\n",
    "res = 0\n",
    "for i in range(arr_length):\n",
    "    res += max(A) * min(B)\n",
    "    A.remove(max(A))\n",
    "    B.remove(min(B))\n",
    "    \n",
    "print(res)"
   ]
  }
 ],
 "metadata": {
  "kernelspec": {
   "display_name": "Python 3.9.13 ('base')",
   "language": "python",
   "name": "python3"
  },
  "language_info": {
   "codemirror_mode": {
    "name": "ipython",
    "version": 3
   },
   "file_extension": ".py",
   "mimetype": "text/x-python",
   "name": "python",
   "nbconvert_exporter": "python",
   "pygments_lexer": "ipython3",
   "version": "3.9.13"
  },
  "vscode": {
   "interpreter": {
    "hash": "a077222d77dfe082b8f1dd562ad70e458ac2ab76993a0b248ab0476e32e9e8dd"
   }
  }
 },
 "nbformat": 4,
 "nbformat_minor": 5
}
