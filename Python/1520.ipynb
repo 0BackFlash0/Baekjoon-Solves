{
 "cells": [
  {
   "cell_type": "code",
   "execution_count": null,
   "metadata": {},
   "outputs": [],
   "source": [
    "import sys\n",
    "input = sys.stdin.readline\n",
    "\n",
    "def descente(matrix):\n",
    "\n",
    "    max_height = len(matrix)-1\n",
    "    max_width = len(matrix[0])-1\n",
    "\n",
    "    memorize = [[-1 for _ in range(len(matrix[0]))] for _ in range(len(matrix))]\n",
    "    memorize[0][0] = 1\n",
    "    \n",
    "    def get_paths(r, c):\n",
    "        if(memorize[r][c]==-1):\n",
    "            current_height = matrix[r][c]\n",
    "            paths = 0\n",
    "            if(r>0 and matrix[r-1][c]>current_height):\n",
    "                paths += get_paths(r-1, c)\n",
    "            if(r<max_height and matrix[r+1][c]>current_height):\n",
    "                paths += get_paths(r+1, c)\n",
    "            if(c>0 and matrix[r][c-1]>current_height):\n",
    "                paths += get_paths(r, c-1)\n",
    "            if(c<max_width and matrix[r][c+1]>current_height):\n",
    "                paths += get_paths(r, c+1)\n",
    "\n",
    "            memorize[r][c] = paths\n",
    "            return paths\n",
    "        else:\n",
    "            return memorize[r][c]\n",
    "\n",
    "    return get_paths(max_height, max_width)\n",
    "\n",
    "\n",
    "\n",
    "n, m = map(int, input().split())\n",
    "matrix = []\n",
    "\n",
    "for _ in range(n):\n",
    "    matrix.append(list(map(int, input().split())))\n",
    "        \n",
    "\n",
    "print(descente(matrix))"
   ]
  }
 ],
 "metadata": {
  "kernelspec": {
   "display_name": "Python 3",
   "language": "python",
   "name": "python3"
  },
  "language_info": {
   "name": "python",
   "version": "3.10.9 (tags/v3.10.9:1dd9be6, Dec  6 2022, 20:01:21) [MSC v.1934 64 bit (AMD64)]"
  },
  "orig_nbformat": 4,
  "vscode": {
   "interpreter": {
    "hash": "7b1f2b33e866b0bf2409397e5f58ba9cdf170d3b7f64c8f359c79998e2f88ad4"
   }
  }
 },
 "nbformat": 4,
 "nbformat_minor": 2
}
