{
 "cells": [
  {
   "cell_type": "code",
   "execution_count": null,
   "metadata": {},
   "outputs": [],
   "source": [
    "import sys\n",
    "input = sys.stdin.readline\n",
    "\n",
    "def room_assign(time_tables):\n",
    "    assign_num = 0\n",
    "    current_time = 0\n",
    "\n",
    "    for end_time, table in time_tables:\n",
    "        if(table[0]>=current_time):\n",
    "            assign_num += 1\n",
    "            current_time = end_time\n",
    "        if(table[1]>=1):\n",
    "            assign_num += table[1]\n",
    "            current_time = end_time\n",
    "\n",
    "    return assign_num\n",
    "\n",
    "\n",
    "def preprocessing(input_times):\n",
    "    return sorted(input_times.items())\n",
    "\n",
    "\n",
    "n = int(input())\n",
    "input_times = dict()\n",
    "for _ in range(n):\n",
    "    i, o = map(int, input().split())\n",
    "\n",
    "    if(o not in input_times.keys()):\n",
    "        input_times[o] = [-1, 0]\n",
    "    \n",
    "    if(o==i):\n",
    "        input_times[o][1] += 1\n",
    "    elif(input_times[o][0]<i):\n",
    "        input_times[o][0] = i\n",
    "\n",
    "\n",
    "time_tables = preprocessing(input_times)\n",
    "\n",
    "# print(time_tables)\n",
    "print(room_assign(time_tables))"
   ]
  }
 ],
 "metadata": {
  "kernelspec": {
   "display_name": "Python 3",
   "language": "python",
   "name": "python3"
  },
  "language_info": {
   "name": "python",
   "version": "3.10.8 (tags/v3.10.8:aaaf517, Oct 11 2022, 16:50:30) [MSC v.1933 64 bit (AMD64)]"
  },
  "orig_nbformat": 4,
  "vscode": {
   "interpreter": {
    "hash": "7b1f2b33e866b0bf2409397e5f58ba9cdf170d3b7f64c8f359c79998e2f88ad4"
   }
  }
 },
 "nbformat": 4,
 "nbformat_minor": 2
}
