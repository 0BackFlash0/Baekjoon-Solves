{
 "cells": [
  {
   "cell_type": "code",
   "execution_count": 7,
   "id": "d4475b7d-3978-4a51-a4f7-f127ec2264aa",
   "metadata": {},
   "outputs": [
    {
     "name": "stdin",
     "output_type": "stream",
     "text": [
      " 9 16\n",
      " 21 25\n",
      " 77 23\n",
      " 23 88\n",
      " 95 43\n",
      " 96 19\n",
      " 59 36\n",
      " 80 13\n",
      " 51 24\n",
      " 15 8\n",
      " 25 61\n",
      " 21 22\n",
      " 3 9\n",
      " 68 68\n",
      " 67 100\n",
      " 83 98\n",
      " 96 57\n"
     ]
    },
    {
     "name": "stdout",
     "output_type": "stream",
     "text": [
      "6\n"
     ]
    }
   ],
   "source": [
    "need_string, brand_num = map(int, input().split(\" \"))\n",
    "\n",
    "min_set = 1000\n",
    "min_unit = 1000\n",
    "for _ in range(brand_num):\n",
    "    set_val, unit_val = map(int, input().split(\" \"))\n",
    "    \n",
    "    if(min_set>set_val):\n",
    "        min_set = set_val\n",
    "    if(min_unit>unit_val):\n",
    "        min_unit = unit_val\n",
    "        \n",
    "money = 0\n",
    "if(min_set>min_unit*6):\n",
    "    money += min_unit*need_string\n",
    "else:\n",
    "    money += min_set*(need_string//6)\n",
    "    if(min_set>min_unit*(need_string%6)):\n",
    "        money += min_unit*(need_string%6)\n",
    "    else:\n",
    "        money += min_set\n",
    "\n",
    "print(money)"
   ]
  },
  {
   "cell_type": "markdown",
   "id": "b5caabc2-1602-4d5d-bff9-16e497736169",
   "metadata": {},
   "source": [
    "## 기타줄\n",
    "\n",
    "입력\n",
    "첫째 줄 : N M   (N: 사야할 최소 기타줄의 수 M: 브랜드 개수)\n",
    "2~M+1번째 줄 : A B   (A : 6개 묶음 세트 가격 B : 낱개 가격)\n",
    "\n",
    "N개를 사기 위한 최소값\n",
    "\n",
    "1. 세트의 최소 가격, 낱개의 최소 가격 구하기\n",
    "\n",
    "2. 6개 단위로 생각 - 세트 가격 vs 낱개 6개 가격\n",
    "2. 나머지 단위로 생각 - 세트 가격 vs 낱개 나머지 가격"
   ]
  },
  {
   "cell_type": "markdown",
   "id": "428d3911-d47d-4907-9f7e-420b47f08047",
   "metadata": {},
   "source": [
    "#정답\n",
    "n,m=map(int,input().split())\n",
    "c=[]\n",
    "d=[]\n",
    "for i in range(m):\n",
    "    a,b=map(int,input().split())\n",
    "    c.append(a)\n",
    "    d.append(b)\n",
    "e=min(c)\n",
    "f=min(d)\n",
    "print(min([(n//6*e)+n%6*f,n//6*e+e,n*f]))"
   ]
  }
 ],
 "metadata": {
  "kernelspec": {
   "display_name": "Python 3 (ipykernel)",
   "language": "python",
   "name": "python3"
  },
  "language_info": {
   "codemirror_mode": {
    "name": "ipython",
    "version": 3
   },
   "file_extension": ".py",
   "mimetype": "text/x-python",
   "name": "python",
   "nbconvert_exporter": "python",
   "pygments_lexer": "ipython3",
   "version": "3.9.12"
  }
 },
 "nbformat": 4,
 "nbformat_minor": 5
}
