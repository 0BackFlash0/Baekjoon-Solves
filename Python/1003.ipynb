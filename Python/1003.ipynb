{
 "cells": [
  {
   "cell_type": "code",
   "execution_count": 22,
   "id": "c737f99e-508e-4bc2-8060-430a198f20da",
   "metadata": {},
   "outputs": [
    {
     "name": "stdin",
     "output_type": "stream",
     "text": [
      " 10\n",
      " 5\n"
     ]
    },
    {
     "name": "stdout",
     "output_type": "stream",
     "text": [
      "3 5\n"
     ]
    },
    {
     "name": "stdin",
     "output_type": "stream",
     "text": [
      " 6\n"
     ]
    },
    {
     "name": "stdout",
     "output_type": "stream",
     "text": [
      "5 8\n"
     ]
    },
    {
     "name": "stdin",
     "output_type": "stream",
     "text": [
      " 7\n"
     ]
    },
    {
     "name": "stdout",
     "output_type": "stream",
     "text": [
      "8 13\n"
     ]
    },
    {
     "name": "stdin",
     "output_type": "stream",
     "text": [
      " 8\n"
     ]
    },
    {
     "name": "stdout",
     "output_type": "stream",
     "text": [
      "13 21\n"
     ]
    },
    {
     "name": "stdin",
     "output_type": "stream",
     "text": [
      " 9\n"
     ]
    },
    {
     "name": "stdout",
     "output_type": "stream",
     "text": [
      "21 34\n"
     ]
    },
    {
     "name": "stdin",
     "output_type": "stream",
     "text": [
      " 10\n"
     ]
    },
    {
     "name": "stdout",
     "output_type": "stream",
     "text": [
      "34 55\n"
     ]
    },
    {
     "name": "stdin",
     "output_type": "stream",
     "text": [
      " 11\n"
     ]
    },
    {
     "name": "stdout",
     "output_type": "stream",
     "text": [
      "55 89\n"
     ]
    },
    {
     "name": "stdin",
     "output_type": "stream",
     "text": [
      " 12\n"
     ]
    },
    {
     "name": "stdout",
     "output_type": "stream",
     "text": [
      "89 144\n"
     ]
    },
    {
     "name": "stdin",
     "output_type": "stream",
     "text": [
      " 13\n"
     ]
    },
    {
     "name": "stdout",
     "output_type": "stream",
     "text": [
      "144 233\n"
     ]
    },
    {
     "name": "stdin",
     "output_type": "stream",
     "text": [
      " 14\n"
     ]
    },
    {
     "name": "stdout",
     "output_type": "stream",
     "text": [
      "233 377\n"
     ]
    }
   ],
   "source": [
    "# import time\n",
    "\n",
    "# def fibonacci(n):\n",
    "#     if (n == 0):\n",
    "#         print(\"0\")\n",
    "#         return 0\n",
    "#     elif (n == 1):\n",
    "#         print(\"1\")\n",
    "#         return 1\n",
    "#     else:\n",
    "#         return fibonacci(n-1) + fibonacci(n-2)\n",
    "    \n",
    "def fibonacci_count(n):\n",
    "#     def count_0(n):\n",
    "#         if(n==0):\n",
    "#             return 1\n",
    "#         elif(n==1):\n",
    "#             return 0\n",
    "#         return count_0(n-1)+count_0(n-2)\n",
    "        \n",
    "#     def count_1(n):\n",
    "#         if(n==0):\n",
    "#             return 0\n",
    "#         elif(n==1):\n",
    "#             return 1\n",
    "#         return count_1(n-1)+count_1(n-2)\n",
    "\n",
    "    def count(n):\n",
    "        if(n==0):\n",
    "            return 1, 0\n",
    "        elif(n==1):\n",
    "            return 0, 1\n",
    "        return [x+y for x,y in zip(count(n-1), count(n-2))]\n",
    "    \n",
    "    return tuple(count(n))\n",
    "    \n",
    "    \n",
    "def fibonacci_list(n):\n",
    "    if n==0:\n",
    "        return 1, 0\n",
    "    elif n==1:\n",
    "        return 0, 1\n",
    "    \n",
    "    fibo_list = [[1, 0], [0, 1]]\n",
    "    for i in range(2, n+1):\n",
    "        fibo_list.append([fibo_list[i-1][0] + fibo_list[i-2][0], fibo_list[i-1][1] + fibo_list[i-2][1]])\n",
    "    return tuple(fibo_list[n])\n",
    "                 \n",
    "case_num = int(input())\n",
    "\n",
    "#print(fibonacci_count(num))\n",
    "for _ in range(case_num):\n",
    "    n = int(input())\n",
    "    # start_time = time.time()\n",
    "    # print(\"%d %d\" % (fibonacci_count(n)))\n",
    "    # print(\"재귀 시간 : %f\" % (time.time()-start_time))\n",
    "    # start_time = time.time()\n",
    "    print(\"%d %d\" % (fibonacci_list(n)))\n",
    "    # print(\"리스트 시간 : %f\" % (time.time()-start_time))"
   ]
  },
  {
   "cell_type": "markdown",
   "id": "d3619ed9-8ba2-470f-a52a-aa2bb977df3e",
   "metadata": {},
   "source": [
    "## 피보나치 수열에서 0, 1이 리턴되는 횟수\n",
    "\n",
    "규칙성 -> n 에서 0이 p, 1이 q번 호출될 때, n+1에서는 각각 q, p+q번 호출된다.\n",
    "\n",
    "1. 재귀 함수로 구하기\n",
    "\n",
    "2. 리스트를 이용해서 구하기\n"
   ]
  },
  {
   "cell_type": "code",
   "execution_count": 38,
   "id": "89921e98-da57-4684-9ee4-7aba9443ec4a",
   "metadata": {},
   "outputs": [
    {
     "ename": "ValueError",
     "evalue": "invalid literal for int() with base 10: ''",
     "output_type": "error",
     "traceback": [
      "\u001b[1;31m---------------------------------------------------------------------------\u001b[0m",
      "\u001b[1;31mValueError\u001b[0m                                Traceback (most recent call last)",
      "Input \u001b[1;32mIn [38]\u001b[0m, in \u001b[0;36m<cell line: 3>\u001b[1;34m()\u001b[0m\n\u001b[0;32m      1\u001b[0m \u001b[38;5;66;03m#정답\u001b[39;00m\n\u001b[0;32m      2\u001b[0m \u001b[38;5;28;01mimport\u001b[39;00m \u001b[38;5;21;01msys\u001b[39;00m\n\u001b[1;32m----> 3\u001b[0m \u001b[38;5;28;01mfor\u001b[39;00m _ \u001b[38;5;129;01min\u001b[39;00m \u001b[38;5;28mrange\u001b[39m(\u001b[38;5;28;43mint\u001b[39;49m\u001b[43m(\u001b[49m\u001b[43msys\u001b[49m\u001b[38;5;241;43m.\u001b[39;49m\u001b[43mstdin\u001b[49m\u001b[38;5;241;43m.\u001b[39;49m\u001b[43mreadline\u001b[49m\u001b[43m(\u001b[49m\u001b[43m)\u001b[49m\u001b[43m)\u001b[49m):\n\u001b[0;32m      4\u001b[0m     p,q\u001b[38;5;241m=\u001b[39m\u001b[38;5;241m1\u001b[39m,\u001b[38;5;241m0\u001b[39m\n\u001b[0;32m      5\u001b[0m     \u001b[38;5;28;01mfor\u001b[39;00m i \u001b[38;5;129;01min\u001b[39;00m \u001b[38;5;28mrange\u001b[39m(\u001b[38;5;28mint\u001b[39m(sys\u001b[38;5;241m.\u001b[39mstdin\u001b[38;5;241m.\u001b[39mreadline())):\n",
      "\u001b[1;31mValueError\u001b[0m: invalid literal for int() with base 10: ''"
     ]
    }
   ],
   "source": [
    "#정답\n",
    "import sys\n",
    "for _ in range(int(sys.stdin.readline())):\n",
    "    p,q=1,0\n",
    "    for i in range(int(sys.stdin.readline())):\n",
    "        p,q=q,p+q\n",
    "    print(p,q)"
   ]
  }
 ],
 "metadata": {
  "kernelspec": {
   "display_name": "Python 3 (ipykernel)",
   "language": "python",
   "name": "python3"
  },
  "language_info": {
   "codemirror_mode": {
    "name": "ipython",
    "version": 3
   },
   "file_extension": ".py",
   "mimetype": "text/x-python",
   "name": "python",
   "nbconvert_exporter": "python",
   "pygments_lexer": "ipython3",
   "version": "3.9.12"
  }
 },
 "nbformat": 4,
 "nbformat_minor": 5
}
