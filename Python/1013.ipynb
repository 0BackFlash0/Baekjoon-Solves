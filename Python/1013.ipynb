{
 "cells": [
  {
   "cell_type": "code",
   "execution_count": null,
   "metadata": {},
   "outputs": [],
   "source": [
    "def vega_wave(wave_str):\n",
    "    \n",
    "    parsed_str = [wave_str]\n",
    "\n",
    "    #DFS 탐색\n",
    "    while(len(parsed_str)>0):\n",
    "        check_str = parsed_str.pop()\n",
    "        if(len(check_str)==0): return True\n",
    "        elif(len(check_str)>=2 and check_str[0:2]==\"01\"):\n",
    "            parsed_str.append(check_str[2:])\n",
    "        elif(len(check_str)>=2 and check_str[0:3]==\"100\"):\n",
    "            tmp_str = check_str[3:]\n",
    "            i = 0\n",
    "\n",
    "            while (len(tmp_str)>i and tmp_str[i]==\"0\"): i += 1\n",
    "            if(len(tmp_str)<i+1): continue\n",
    "\n",
    "            tmp_str = tmp_str[i+1:]\n",
    "            i = 0\n",
    "            while (len(tmp_str)>i and tmp_str[i]==\"1\"): i += 1\n",
    "            \n",
    "            if(i>=1):\n",
    "                parsed_str.append(tmp_str[i-1:])\n",
    "            parsed_str.append(tmp_str[i:])\n",
    "\n",
    "\n",
    "    return False\n",
    "\n",
    "\n",
    "n = int(input())\n",
    "\n",
    "for _ in range(n):\n",
    "    wave = input()\n",
    "    print(\"YES\" if vega_wave(wave) else \"NO\")"
   ]
  }
 ],
 "metadata": {
  "kernelspec": {
   "display_name": "Python 3.8.2 64-bit",
   "language": "python",
   "name": "python3"
  },
  "language_info": {
   "name": "python",
   "version": "3.8.2"
  },
  "orig_nbformat": 4,
  "vscode": {
   "interpreter": {
    "hash": "31f2aee4e71d21fbe5cf8b01ff0e069b9275f58929596ceb00d14d90e3e16cd6"
   }
  }
 },
 "nbformat": 4,
 "nbformat_minor": 2
}
