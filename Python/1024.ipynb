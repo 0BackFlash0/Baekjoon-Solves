{
 "cells": [
  {
   "cell_type": "code",
   "execution_count": 30,
   "metadata": {},
   "outputs": [
    {
     "name": "stdout",
     "output_type": "stream",
     "text": [
      "0 1 2\n"
     ]
    }
   ],
   "source": [
    "def sequence_sum(num, min_length):\n",
    "    length = min_length\n",
    "    while True:\n",
    "        pivot = num-int(length * (length-1) / 2)\n",
    "        if(pivot<0 or length>100):\n",
    "            return [-1]\n",
    "\n",
    "        if(pivot%length==0):\n",
    "            addition = pivot//length\n",
    "\n",
    "            return range(addition, addition+length)\n",
    "\n",
    "        length += 1\n",
    "\n",
    "\n",
    "n, l = map(int, input().split())\n",
    "print(\" \".join(map(str, sequence_sum(n, l))))"
   ]
  }
 ],
 "metadata": {
  "kernelspec": {
   "display_name": "Python 3.9.13 ('base')",
   "language": "python",
   "name": "python3"
  },
  "language_info": {
   "codemirror_mode": {
    "name": "ipython",
    "version": 3
   },
   "file_extension": ".py",
   "mimetype": "text/x-python",
   "name": "python",
   "nbconvert_exporter": "python",
   "pygments_lexer": "ipython3",
   "version": "3.9.13"
  },
  "orig_nbformat": 4,
  "vscode": {
   "interpreter": {
    "hash": "a077222d77dfe082b8f1dd562ad70e458ac2ab76993a0b248ab0476e32e9e8dd"
   }
  }
 },
 "nbformat": 4,
 "nbformat_minor": 2
}
