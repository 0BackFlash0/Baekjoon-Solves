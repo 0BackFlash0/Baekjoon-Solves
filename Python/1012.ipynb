{
 "cells": [
  {
   "cell_type": "code",
   "execution_count": null,
   "metadata": {},
   "outputs": [],
   "source": [
    "\n",
    "def remove_neighbor(list_2div, r, c):\n",
    "    # print(r, c)\n",
    "    list_2div[r][c] = 0\n",
    "    height = len(list_2div)\n",
    "    length = len(list_2div[0])\n",
    "\n",
    "    if(r-1>=0 and list_2div[r-1][c]==1):\n",
    "        remove_neighbor(list_2div, r-1, c)\n",
    "    if(r+1<height and list_2div[r+1][c]==1):\n",
    "        remove_neighbor(list_2div, r+1, c)\n",
    "    if(c-1>=0 and list_2div[r][c-1]==1):\n",
    "        remove_neighbor(list_2div, r, c-1)\n",
    "    if(c+1<length and list_2div[r][c+1]==1):\n",
    "        remove_neighbor(list_2div, r, c+1)\n",
    "\n",
    "# def check_area(list_2div, height, length):\n",
    "#     result = 0\n",
    "#     for row in range(height):\n",
    "#         for col in range(length):\n",
    "#             area = []\n",
    "#             if(list_2div[row][col]==1):\n",
    "#                 result += 1\n",
    "#                 area.append((col, row))\n",
    "\n",
    "#                 while(len(area)>0):\n",
    "#                     x, y = area.pop()\n",
    "#                     if(y>=height or x>=length or y<0 or x<0):\n",
    "#                         continue\n",
    "\n",
    "#                     if(list_2div[y][x]==1):\n",
    "#                         list_2div[y][x] = 0\n",
    "\n",
    "#                         area.insert(0, (x+1, y))\n",
    "#                         area.insert(0, (x-1, y))\n",
    "#                         area.insert(0, (x, y+1))\n",
    "#                         area.insert(0, (x, y-1))\n",
    "#     return result\n",
    "\n",
    "\n",
    "if(__name__==\"__main__\"):\n",
    "    test_case = int(input())\n",
    "    for _ in range(test_case):\n",
    "        x_len, y_len, num = map(int, input().split())\n",
    "\n",
    "        farm = [[0 for _ in range(x_len)] for _ in range(y_len)]\n",
    "        for _ in range(num):\n",
    "            x, y = map(int, input().split())\n",
    "            farm[y][x] = 1\n",
    "\n",
    "        \n",
    "        result = 0\n",
    "        for y in range(y_len):\n",
    "            for x in range(x_len):\n",
    "                if(farm[y][x]==1):\n",
    "                    result += 1\n",
    "                    remove_neighbor(farm, y, x)\n",
    "\n",
    "        print(result)\n",
    "        # print(check_area(farm, y_len, x_len))\n"
   ]
  }
 ],
 "metadata": {
  "kernelspec": {
   "display_name": "Python 3.9.13 ('base')",
   "language": "python",
   "name": "python3"
  },
  "language_info": {
   "name": "python",
   "version": "3.9.13"
  },
  "orig_nbformat": 4,
  "vscode": {
   "interpreter": {
    "hash": "a077222d77dfe082b8f1dd562ad70e458ac2ab76993a0b248ab0476e32e9e8dd"
   }
  }
 },
 "nbformat": 4,
 "nbformat_minor": 2
}
