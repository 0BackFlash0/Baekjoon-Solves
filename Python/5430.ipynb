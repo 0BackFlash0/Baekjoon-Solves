{
 "cells": [
  {
   "cell_type": "code",
   "execution_count": null,
   "metadata": {},
   "outputs": [],
   "source": [
    "import sys\n",
    "input = sys.stdin.readline\n",
    "\n",
    "def AC(func_list, length, num_list):\n",
    "\n",
    "    num_list = num_list\n",
    "    is_reversed = False\n",
    "\n",
    "    start = 0\n",
    "    end = length\n",
    "    for func in func_list:\n",
    "        if(func==\"R\"):\n",
    "            is_reversed = not is_reversed\n",
    "        elif(func==\"D\"):\n",
    "            if(is_reversed):\n",
    "                end -= 1\n",
    "            else:\n",
    "                start += 1\n",
    "\n",
    "            if(start>end):\n",
    "                return \"error\"\n",
    "\n",
    "    if(is_reversed):\n",
    "        num_list.reverse()\n",
    "        tmp_end = end\n",
    "        end = length - start\n",
    "        start = length - tmp_end\n",
    "    return \"[\" + \",\".join(map(str, num_list[start:end])) + \"]\"\n",
    "\n",
    "n = int(input())\n",
    "\n",
    "for _ in range(n):\n",
    "    func_list = input()\n",
    "    length = int(input())\n",
    "    str_list = input().replace(\"[\",\"\").replace(\"]\",\"\").replace(\"\\n\",\"\").split(\",\")\n",
    "    num_list = []\n",
    "    if(str_list!=['']):\n",
    "        num_list = list(map(int, str_list))\n",
    "    print(AC(func_list, length, num_list))\n"
   ]
  },
  {
   "cell_type": "markdown",
   "metadata": {},
   "source": []
  }
 ],
 "metadata": {
  "kernelspec": {
   "display_name": "Python 3",
   "language": "python",
   "name": "python3"
  },
  "language_info": {
   "name": "python",
   "version": "3.10.9 (tags/v3.10.9:1dd9be6, Dec  6 2022, 20:01:21) [MSC v.1934 64 bit (AMD64)]"
  },
  "orig_nbformat": 4,
  "vscode": {
   "interpreter": {
    "hash": "7b1f2b33e866b0bf2409397e5f58ba9cdf170d3b7f64c8f359c79998e2f88ad4"
   }
  }
 },
 "nbformat": 4,
 "nbformat_minor": 2
}
