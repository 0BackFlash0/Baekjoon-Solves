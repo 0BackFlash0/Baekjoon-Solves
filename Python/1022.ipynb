{
 "cells": [
  {
   "cell_type": "code",
   "execution_count": null,
   "metadata": {},
   "outputs": [],
   "source": [
    "import math\n",
    "\n",
    "def cyclone (r1, c1, r2, c2):\n",
    "    # start_pos : [r1, c1] / end_pos = [r2, c2]\n",
    "\n",
    "    cyc_matrix = [[0 for col in range(c2-c1+1)] for row in range(r2-r1+1)]\n",
    "\n",
    "    for row in range(len(cyc_matrix)):\n",
    "        for col in range(len(cyc_matrix[row])):\n",
    "            actual_row = r1 + row\n",
    "            actual_col = c1 + col\n",
    "\n",
    "            lv = max(abs(actual_row), abs(actual_col))\n",
    "            val = 1\n",
    "            if(actual_row >= -1 * actual_col and actual_row < actual_col):\n",
    "                val = (2*lv-1) ** 2 + 2*lv - (lv + actual_row)\n",
    "            elif(actual_row <= actual_col and actual_row < -1 * actual_col):\n",
    "                val = (2*lv-1) ** 2 + 4*lv - (lv + actual_col)\n",
    "            elif(actual_row <= -1 * actual_col and actual_row > actual_col):\n",
    "                val = (2*lv-1) ** 2 + 6*lv - (lv - actual_row)\n",
    "            elif(actual_row >= actual_col and actual_row > -1 * actual_col):\n",
    "                val = (2*lv-1) ** 2 + 8*lv - (lv - actual_col)\n",
    "\n",
    "            cyc_matrix[row][col] = val\n",
    "\n",
    "    return cyc_matrix\n",
    "\n",
    "\n",
    "def print_cyclone(cyc_matrix):\n",
    "    max_val = max([max(r) for r in cyc_matrix])\n",
    "    n = math.floor(math.log10(max_val)) + 1\n",
    "\n",
    "    for row in cyc_matrix:\n",
    "        print(\" \".join(map(lambda d : \"{0:{1}d}\".format(d, n), row)))\n",
    "\n",
    "\n",
    "r1, c1, r2, c2 = map(int, input().split())\n",
    "\n",
    "print_cyclone(cyclone(r1, c1, r2, c2))"
   ]
  }
 ],
 "metadata": {
  "kernelspec": {
   "display_name": "Python 3.8.2 64-bit",
   "language": "python",
   "name": "python3"
  },
  "language_info": {
   "name": "python",
   "version": "3.8.2"
  },
  "orig_nbformat": 4,
  "vscode": {
   "interpreter": {
    "hash": "31f2aee4e71d21fbe5cf8b01ff0e069b9275f58929596ceb00d14d90e3e16cd6"
   }
  }
 },
 "nbformat": 4,
 "nbformat_minor": 2
}
