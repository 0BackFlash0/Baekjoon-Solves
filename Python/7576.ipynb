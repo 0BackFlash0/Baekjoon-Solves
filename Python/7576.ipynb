{
 "cells": [
  {
   "cell_type": "code",
   "execution_count": null,
   "metadata": {},
   "outputs": [],
   "source": [
    "import sys\n",
    "input = sys.stdin.readline\n",
    "\n",
    "def tomato_farm(farm, M, N, unriped_tomato, riped_pos):\n",
    "    \n",
    "    farm = farm\n",
    "    riped_pos = riped_pos\n",
    "    unriped_tomato = unriped_tomato\n",
    "    next_riped = []\n",
    "\n",
    "    days = 0\n",
    "\n",
    "    while(unriped_tomato>0 and len(riped_pos)>0):\n",
    "        days += 1\n",
    "        for riped in riped_pos:\n",
    "\n",
    "            pos_r = riped[0]\n",
    "            pos_c = riped[1]\n",
    "\n",
    "            if(pos_r!=0 and farm[pos_r-1][pos_c]==0):\n",
    "                farm[pos_r-1][pos_c] = 1\n",
    "                unriped_tomato -= 1\n",
    "                next_riped.append((pos_r-1, pos_c))\n",
    "            if(pos_c!=0 and farm[pos_r][pos_c-1]==0):\n",
    "                farm[pos_r][pos_c-1] = 1\n",
    "                unriped_tomato -= 1\n",
    "                next_riped.append((pos_r, pos_c-1))\n",
    "            if(pos_r!=N-1 and farm[pos_r+1][pos_c]==0):\n",
    "                farm[pos_r+1][pos_c] = 1\n",
    "                unriped_tomato -= 1\n",
    "                next_riped.append((pos_r+1, pos_c))\n",
    "            if(pos_c!=M-1 and farm[pos_r][pos_c+1]==0):\n",
    "                farm[pos_r][pos_c+1] = 1\n",
    "                unriped_tomato -= 1\n",
    "                next_riped.append((pos_r, pos_c+1))\n",
    "        \n",
    "        riped_pos = next_riped\n",
    "        next_riped = []\n",
    "        \n",
    "\n",
    "\n",
    "    if(unriped_tomato>0):\n",
    "        return -1\n",
    "    else:\n",
    "        return days\n",
    "        \n",
    "\n",
    "\n",
    "\n",
    "M, N = map(int, input().split())\n",
    "\n",
    "farm = [[0 for _ in range(M)] for _ in range(N)]\n",
    "riped_pos = []\n",
    "unriped_tomato = 0\n",
    "\n",
    "for r in range(N):\n",
    "    for c, tomato in enumerate(map(int, input().split())):\n",
    "        if(tomato==0):\n",
    "            unriped_tomato += 1\n",
    "        elif(tomato==1):\n",
    "            riped_pos.append((r, c))\n",
    "            farm[r][c] = 1\n",
    "        else:\n",
    "            farm[r][c] = -1\n",
    "\n",
    "print(tomato_farm(farm, M, N, unriped_tomato, riped_pos))\n",
    "\n",
    "        "
   ]
  }
 ],
 "metadata": {
  "kernelspec": {
   "display_name": "Python 3",
   "language": "python",
   "name": "python3"
  },
  "language_info": {
   "name": "python",
   "version": "3.10.9 (tags/v3.10.9:1dd9be6, Dec  6 2022, 20:01:21) [MSC v.1934 64 bit (AMD64)]"
  },
  "orig_nbformat": 4,
  "vscode": {
   "interpreter": {
    "hash": "7b1f2b33e866b0bf2409397e5f58ba9cdf170d3b7f64c8f359c79998e2f88ad4"
   }
  }
 },
 "nbformat": 4,
 "nbformat_minor": 2
}
