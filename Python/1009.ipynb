{
 "cells": [
  {
   "cell_type": "code",
   "execution_count": 21,
   "id": "04c5ad12-9d79-42a8-9d0b-daff3449e215",
   "metadata": {},
   "outputs": [
    {
     "name": "stdin",
     "output_type": "stream",
     "text": [
      " 5\n",
      " 1 6\n"
     ]
    },
    {
     "name": "stdout",
     "output_type": "stream",
     "text": [
      "1\n"
     ]
    },
    {
     "name": "stdin",
     "output_type": "stream",
     "text": [
      " 3 7\n"
     ]
    },
    {
     "name": "stdout",
     "output_type": "stream",
     "text": [
      "7\n"
     ]
    },
    {
     "name": "stdin",
     "output_type": "stream",
     "text": [
      " 6 2\n"
     ]
    },
    {
     "name": "stdout",
     "output_type": "stream",
     "text": [
      "6\n"
     ]
    },
    {
     "name": "stdin",
     "output_type": "stream",
     "text": [
      " 7 100\n"
     ]
    },
    {
     "name": "stdout",
     "output_type": "stream",
     "text": [
      "1\n"
     ]
    },
    {
     "name": "stdin",
     "output_type": "stream",
     "text": [
      " 9 635\n"
     ]
    },
    {
     "name": "stdout",
     "output_type": "stream",
     "text": [
      "9\n"
     ]
    }
   ],
   "source": [
    "def pow_mod10(a,b):\n",
    "    mod_a = a%10\n",
    "    mod_b = b%4\n",
    "    \n",
    "    if(mod_a==0):\n",
    "        return 10;\n",
    "    if(mod_b==0):\n",
    "        mod_b==4\n",
    "    \n",
    "    result = mod_a\n",
    "    for i in range(3+mod_b):\n",
    "        result = (result*mod_a)%10\n",
    "        #print(\"  \", result)\n",
    "    return result\n",
    "\n",
    "case_num = int(input())\n",
    "\n",
    "for i in range(case_num):\n",
    "    a, b = map(int, input().split(\" \"))\n",
    "    print(pow_mod10(a,b))"
   ]
  },
  {
   "cell_type": "code",
   "execution_count": null,
   "id": "fa17a887-3131-43a1-b2a5-7f6f247e171f",
   "metadata": {},
   "outputs": [],
   "source": [
    "1 1 1 1 1\n",
    "2 4 8 6 2\n",
    "3 9 7 1\n",
    "4 6 4 6\n",
    "5 5 5 5\n",
    "6 6 6 6\n",
    "7 9 3 1 7\n",
    "\n"
   ]
  },
  {
   "cell_type": "code",
   "execution_count": null,
   "id": "18981ff6-d564-4f46-a0b2-542d6985442a",
   "metadata": {},
   "outputs": [],
   "source": [
    "#정답\n",
    "\n",
    "import sys\n",
    "\n",
    "n=int(input())\n",
    "for i in range(0,n):\n",
    "    a,b=map(int,sys.stdin.readline().split())\n",
    "    a=a%10\n",
    "    b=(b%4)+4\n",
    "    print(((a**b)%10+9)%10+1)"
   ]
  }
 ],
 "metadata": {
  "kernelspec": {
   "display_name": "Python 3 (ipykernel)",
   "language": "python",
   "name": "python3"
  },
  "language_info": {
   "codemirror_mode": {
    "name": "ipython",
    "version": 3
   },
   "file_extension": ".py",
   "mimetype": "text/x-python",
   "name": "python",
   "nbconvert_exporter": "python",
   "pygments_lexer": "ipython3",
   "version": "3.9.12"
  }
 },
 "nbformat": 4,
 "nbformat_minor": 5
}
