{
 "cells": [
  {
   "cell_type": "code",
   "execution_count": null,
   "metadata": {},
   "outputs": [],
   "source": [
    "def calc_friend(matrix, r):\n",
    "\n",
    "    check_col = matrix[r].copy()\n",
    "    check_col[r] = True\n",
    "\n",
    "    friend_col = [False for _ in matrix]\n",
    "\n",
    "    for i, is_friend in enumerate(check_col):\n",
    "        if(is_friend):\n",
    "            for j, elem in enumerate(matrix[i]):\n",
    "                friend_col[j] = friend_col[j] or elem\n",
    "\n",
    "    return sum(friend_col) - 1\n",
    "\n",
    "\n",
    "len_n = int(input())\n",
    "\n",
    "matrix = [[(True if tf == \"Y\" else False) for c, tf in enumerate(input())] for _ in range(len_n)]\n",
    "\n",
    "max_friend = 0\n",
    "for r in range(len_n):\n",
    "    \n",
    "    num_friend = calc_friend(matrix, r)\n",
    "    if(num_friend > max_friend):\n",
    "        max_friend = num_friend\n",
    "\n",
    "print(max_friend)\n"
   ]
  },
  {
   "cell_type": "code",
   "execution_count": null,
   "metadata": {},
   "outputs": [],
   "source": [
    "import numpy as np\n",
    "\n",
    "def calc_friend(matrix, r):\n",
    "    friend_col = np.delete(matrix[r], r)\n",
    "\n",
    "    check_matrix = np.delete( np.delete(matrix, r, axis=0), r, axis=1)\n",
    "\n",
    "    friend_matrix = friend_col * check_matrix\n",
    "\n",
    "    second_friend = [sum(row)>0 for row in friend_matrix]\n",
    "\n",
    "    total_friend = friend_col + second_friend\n",
    "\n",
    "    return sum(total_friend)\n",
    "\n",
    "\n",
    "len_n = int(input())\n",
    "\n",
    "matrix = [[(True if tf == \"Y\" else False) for c, tf in enumerate(input())] for _ in range(len_n)]\n",
    "matrix = np.array(matrix)\n",
    "\n",
    "max_friend = 0\n",
    "for r in range(len_n):\n",
    "    \n",
    "    num_friend = calc_friend(matrix, r)\n",
    "    if(num_friend > max_friend):\n",
    "        max_friend = num_friend\n",
    "\n",
    "print(max_friend)"
   ]
  }
 ],
 "metadata": {
  "kernelspec": {
   "display_name": "Python 3.9.13 ('base')",
   "language": "python",
   "name": "python3"
  },
  "language_info": {
   "codemirror_mode": {
    "name": "ipython",
    "version": 3
   },
   "file_extension": ".py",
   "mimetype": "text/x-python",
   "name": "python",
   "nbconvert_exporter": "python",
   "pygments_lexer": "ipython3",
   "version": "3.9.13"
  },
  "orig_nbformat": 4,
  "vscode": {
   "interpreter": {
    "hash": "a077222d77dfe082b8f1dd562ad70e458ac2ab76993a0b248ab0476e32e9e8dd"
   }
  }
 },
 "nbformat": 4,
 "nbformat_minor": 2
}
