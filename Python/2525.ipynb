{
 "cells": [
  {
   "cell_type": "code",
   "execution_count": 10,
   "id": "9803334e-7768-424c-bf00-b21f7b930075",
   "metadata": {},
   "outputs": [
    {
     "name": "stdin",
     "output_type": "stream",
     "text": [
      " 0 0\n",
      " 239\n"
     ]
    },
    {
     "name": "stdout",
     "output_type": "stream",
     "text": [
      "3 59\n"
     ]
    }
   ],
   "source": [
    "h, m = map(int, input().split(\" \"))\n",
    "oven_time = int(input())\n",
    "\n",
    "h = (h+(oven_time+m)//60)%24\n",
    "m = (oven_time+m)%60\n",
    "\n",
    "print(h, m)"
   ]
  }
 ],
 "metadata": {
  "kernelspec": {
   "display_name": "Python 3 (ipykernel)",
   "language": "python",
   "name": "python3"
  },
  "language_info": {
   "codemirror_mode": {
    "name": "ipython",
    "version": 3
   },
   "file_extension": ".py",
   "mimetype": "text/x-python",
   "name": "python",
   "nbconvert_exporter": "python",
   "pygments_lexer": "ipython3",
   "version": "3.9.15"
  }
 },
 "nbformat": 4,
 "nbformat_minor": 5
}
