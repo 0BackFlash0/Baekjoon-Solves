{
 "cells": [
  {
   "cell_type": "code",
   "execution_count": null,
   "metadata": {},
   "outputs": [],
   "source": [
    "import sys\n",
    "input = sys.stdin.readline\n",
    "\n",
    "def gcd(_a, _b):\n",
    "\n",
    "    a = _a\n",
    "    b = _b\n",
    "\n",
    "    if(b>a):\n",
    "        b = _a\n",
    "        a = _b\n",
    "\n",
    "    if(a%b==0):\n",
    "        return b\n",
    "    else:\n",
    "        return gcd(b, a%b)\n",
    "\n",
    "def get_div(n):\n",
    "    divisors = []\n",
    "    divisors_back = []\n",
    "\n",
    "    for i in range(1, int(n**(1/2))+1):\n",
    "        if(n%i == 0):\n",
    "            divisors.append(i)\n",
    "            if(i!=n//i):\n",
    "                divisors_back.append(n//i)\n",
    "\n",
    "    return divisors + divisors_back[::-1]\n",
    "\n",
    "\n",
    "n = int(input())\n",
    "\n",
    "# 초기 2개값에 대해 계산\n",
    "nums = []\n",
    "nums.append(int(input()))\n",
    "nums.append(int(input()))\n",
    "available_gcd = abs(nums[-2]-nums[-1])\n",
    "\n",
    "for _ in range(n-2):\n",
    "    nums.append(int(input()))\n",
    "    available_gcd = gcd(available_gcd, abs(nums[-2]-nums[-1]))\n",
    "    # print(available_gcd, abs(nums[-2]-nums[-1]))\n",
    "        \n",
    "\n",
    "divs = get_div(available_gcd)\n",
    "\n",
    "print(\" \".join(map(str, divs[1:])))\n",
    "\n"
   ]
  }
 ],
 "metadata": {
  "kernelspec": {
   "display_name": "Python 3",
   "language": "python",
   "name": "python3"
  },
  "language_info": {
   "name": "python",
   "version": "3.10.9 (tags/v3.10.9:1dd9be6, Dec  6 2022, 20:01:21) [MSC v.1934 64 bit (AMD64)]"
  },
  "orig_nbformat": 4,
  "vscode": {
   "interpreter": {
    "hash": "7b1f2b33e866b0bf2409397e5f58ba9cdf170d3b7f64c8f359c79998e2f88ad4"
   }
  }
 },
 "nbformat": 4,
 "nbformat_minor": 2
}
