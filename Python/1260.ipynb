{
 "cells": [
  {
   "cell_type": "code",
   "execution_count": null,
   "metadata": {},
   "outputs": [],
   "source": [
    "from copy import deepcopy\n",
    "\n",
    "def DFS(_graph_list, start):\n",
    "    graph_list = deepcopy(_graph_list)\n",
    "\n",
    "    search_list = [start]\n",
    "    result = []\n",
    "    while(len(search_list)>0):\n",
    "        current = search_list.pop()\n",
    "        current_node = graph_list[current]\n",
    "        if(not current_node[0]):\n",
    "            current_node[0] = True\n",
    "            result.append(current+1)\n",
    "            for next_node in sorted(current_node[1], reverse=True):\n",
    "                if(graph_list[next_node][0]==False):\n",
    "                    search_list.append(next_node)\n",
    "\n",
    "    return result\n",
    "\n",
    "def BFS(_graph_list, start):\n",
    "    graph_list = deepcopy(_graph_list)\n",
    "    search_list = [start]\n",
    "    result = []\n",
    "    while(len(search_list)>0):\n",
    "        current = search_list.pop(0)\n",
    "        current_node = graph_list[current]\n",
    "        if(not current_node[0]):\n",
    "            current_node[0] = True\n",
    "            result.append(current+1)\n",
    "            for next_node in sorted(current_node[1]):\n",
    "                if(graph_list[next_node][0]==False):\n",
    "                    search_list.append(next_node)\n",
    "\n",
    "    return result\n",
    "\n",
    "\n",
    "n, m, start = map(int, input().split())\n",
    "\n",
    "graph_list = [[False, []] for _ in range(n)]\n",
    "# 현재 값 (인덱스)\n",
    "# 방문 여부 (True/False)\n",
    "# 다음 방문 (인덱스들)\n",
    "\n",
    "for _ in range(m):\n",
    "    s, e = map(int, input().split())\n",
    "\n",
    "    graph_list[s-1][1].append(e-1)\n",
    "    graph_list[e-1][1].append(s-1)\n",
    "    # 인덱스로 계산하기 때문에 1씩 제외하고 \n",
    "\n",
    "print(\" \".join(map(str, DFS(graph_list, start-1))))\n",
    "print(\" \".join(map(str, BFS(graph_list, start-1))))"
   ]
  }
 ],
 "metadata": {
  "kernelspec": {
   "display_name": "Python 3.9.13 ('base')",
   "language": "python",
   "name": "python3"
  },
  "language_info": {
   "name": "python",
   "version": "3.9.13"
  },
  "orig_nbformat": 4,
  "vscode": {
   "interpreter": {
    "hash": "a077222d77dfe082b8f1dd562ad70e458ac2ab76993a0b248ab0476e32e9e8dd"
   }
  }
 },
 "nbformat": 4,
 "nbformat_minor": 2
}
