{
 "cells": [
  {
   "cell_type": "code",
   "execution_count": 12,
   "metadata": {},
   "outputs": [
    {
     "name": "stdout",
     "output_type": "stream",
     "text": [
      "15808\n"
     ]
    }
   ],
   "source": [
    "def calc_bottle(_n, _k):\n",
    "    n = _n\n",
    "    k = _k\n",
    "    if(n==0): return 0\n",
    "\n",
    "    while(k>1):\n",
    "        i = 1\n",
    "        while (i*2 <n): i*=2\n",
    "        n -= i\n",
    "        k -= 1\n",
    "        if(n==0): return 0\n",
    "    \n",
    "\n",
    "    i = 1\n",
    "    while (i<n): i*=2\n",
    "\n",
    "    return i - n\n",
    "    \n",
    "\n",
    "n, k = map(int, input().split())\n",
    "print(calc_bottle(n, k))"
   ]
  },
  {
   "cell_type": "code",
   "execution_count": 2,
   "metadata": {},
   "outputs": [
    {
     "data": {
      "text/plain": [
       "203161.6"
      ]
     },
     "execution_count": 2,
     "metadata": {},
     "output_type": "execute_result"
    }
   ],
   "source": [
    "1015808/5"
   ]
  },
  {
   "cell_type": "code",
   "execution_count": null,
   "metadata": {},
   "outputs": [],
   "source": []
  }
 ],
 "metadata": {
  "kernelspec": {
   "display_name": "Python 3.9.13 ('base')",
   "language": "python",
   "name": "python3"
  },
  "language_info": {
   "codemirror_mode": {
    "name": "ipython",
    "version": 3
   },
   "file_extension": ".py",
   "mimetype": "text/x-python",
   "name": "python",
   "nbconvert_exporter": "python",
   "pygments_lexer": "ipython3",
   "version": "3.9.13"
  },
  "orig_nbformat": 4,
  "vscode": {
   "interpreter": {
    "hash": "701d4f28dcd0866722f5108a3a4cbcd08882d26398b6d44117e791d7b8102912"
   }
  }
 },
 "nbformat": 4,
 "nbformat_minor": 2
}
