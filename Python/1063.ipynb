{
 "cells": [
  {
   "cell_type": "code",
   "execution_count": null,
   "metadata": {},
   "outputs": [],
   "source": [
    "\n",
    "# import sys\n",
    "# input = sys.stdin.buffer.readline\n",
    "\n",
    "def chess(stone, king, move_list):\n",
    "    move_dict = {'R' : (0, 1), 'L' : (0, -1), 'B' : (-1, 0), 'T' : (1, 0), 'RT' : (1, 1), 'LT' : (1, -1), 'RB' : (-1, 1), 'LB' : (-1, -1)}\n",
    "\n",
    "    king_pos = list(king)\n",
    "    stone_pos = list(stone)\n",
    "    for _move in move_list:\n",
    "        move = move_dict[_move]\n",
    "        tmp_king = [king_pos[0]+move[0], king_pos[1]+move[1]]\n",
    "        if(0<=tmp_king[0]<8 and 0<=tmp_king[1]<8):\n",
    "            if(tmp_king[0]==stone_pos[0] and tmp_king[1]==stone_pos[1]):\n",
    "                tmp_stone = [stone_pos[0]+move[0], stone_pos[1]+move[1]]\n",
    "                if(0<=tmp_stone[0]<8 and 0<=tmp_stone[1]<8):\n",
    "                    king_pos = tmp_king\n",
    "                    stone_pos = tmp_stone\n",
    "            else:\n",
    "                king_pos = tmp_king\n",
    "        # print(encode_pos(king_pos), encode_pos(stone_pos))\n",
    "    \n",
    "    return king_pos, stone_pos\n",
    "\n",
    "\n",
    "def interpret_pos(pos):\n",
    "    col_list = ['A', 'B', 'C', 'D', 'E', 'F', 'G', 'H']\n",
    "    col = col_list.index(pos[0])\n",
    "    row = int(pos[1])-1\n",
    "\n",
    "    return (row, col)\n",
    "\n",
    "def encode_pos(idx):\n",
    "    col_dict = ['A', 'B', 'C', 'D', 'E', 'F', 'G', 'H']\n",
    "    col = col_dict[idx[1]]\n",
    "    row = idx[0]+1\n",
    "    return col+str(row)\n",
    "\n",
    "king, stone, n = input().split()\n",
    "stone = interpret_pos(stone)\n",
    "king = interpret_pos(king)\n",
    "n = int(n)\n",
    "\n",
    "move_list = []\n",
    "for _ in range(n):\n",
    "    move_list.append(input())\n",
    "\n",
    "king_pos, stone_pos = chess(stone, king, move_list)\n",
    "print(encode_pos(king_pos))\n",
    "print(encode_pos(stone_pos))"
   ]
  }
 ],
 "metadata": {
  "kernelspec": {
   "display_name": "base",
   "language": "python",
   "name": "python3"
  },
  "language_info": {
   "name": "python",
   "version": "3.9.13 (main, Aug 25 2022, 23:51:50) [MSC v.1916 64 bit (AMD64)]"
  },
  "orig_nbformat": 4,
  "vscode": {
   "interpreter": {
    "hash": "a077222d77dfe082b8f1dd562ad70e458ac2ab76993a0b248ab0476e32e9e8dd"
   }
  }
 },
 "nbformat": 4,
 "nbformat_minor": 2
}
