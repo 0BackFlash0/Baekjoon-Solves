{
 "cells": [
  {
   "cell_type": "code",
   "execution_count": null,
   "metadata": {},
   "outputs": [],
   "source": [
    "import math\n",
    "\n",
    "def clear_snow(_snow_list):\n",
    "    snow_list = _snow_list\n",
    "\n",
    "    max_snow = max(snow_list)\n",
    "    rest_snow = sum(snow_list)-max_snow\n",
    "    result = 0\n",
    "\n",
    "    if(max_snow>rest_snow):\n",
    "        result = max_snow\n",
    "    else:\n",
    "        result = math.ceil((rest_snow - max_snow)/2) + max_snow\n",
    "\n",
    "    if(result>1440):\n",
    "        return -1\n",
    "    else:\n",
    "        return result\n",
    "\n",
    "\n",
    "n = int(input())\n",
    "snow_list = list(map(int, input().split()))\n",
    "\n",
    "print(clear_snow(snow_list))\n"
   ]
  }
 ],
 "metadata": {
  "kernelspec": {
   "display_name": "base",
   "language": "python",
   "name": "python3"
  },
  "language_info": {
   "name": "python"
  },
  "orig_nbformat": 4,
  "vscode": {
   "interpreter": {
    "hash": "a077222d77dfe082b8f1dd562ad70e458ac2ab76993a0b248ab0476e32e9e8dd"
   }
  }
 },
 "nbformat": 4,
 "nbformat_minor": 2
}
