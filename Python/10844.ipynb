{
 "cells": [
  {
   "cell_type": "code",
   "execution_count": null,
   "metadata": {},
   "outputs": [],
   "source": [
    "def step_num(n):\n",
    "    num_list = [0]*n\n",
    "    num_list[0] = [0, 1, 1, 1, 1, 1, 1, 1, 1, 1]\n",
    "    \n",
    "    for i in range(1, n):\n",
    "        temp_num_list = [0]*10\n",
    "\n",
    "        for j in range(0, 10):\n",
    "            if (j>0):\n",
    "                temp_num_list[j] += num_list[i-1][j-1]\n",
    "            if (j<9):\n",
    "                temp_num_list[j] += num_list[i-1][j+1]\n",
    "            temp_num_list[j] %= 1000000000\n",
    "        num_list[i] = temp_num_list\n",
    "\n",
    "    return sum(num_list[n-1])%1000000000\n",
    "\n",
    "\n",
    "\n",
    "n = int(input())\n",
    "print(step_num(n))"
   ]
  }
 ],
 "metadata": {
  "kernelspec": {
   "display_name": "Python 3.8.2 64-bit",
   "language": "python",
   "name": "python3"
  },
  "language_info": {
   "name": "python",
   "version": "3.8.2"
  },
  "orig_nbformat": 4,
  "vscode": {
   "interpreter": {
    "hash": "31f2aee4e71d21fbe5cf8b01ff0e069b9275f58929596ceb00d14d90e3e16cd6"
   }
  }
 },
 "nbformat": 4,
 "nbformat_minor": 2
}
