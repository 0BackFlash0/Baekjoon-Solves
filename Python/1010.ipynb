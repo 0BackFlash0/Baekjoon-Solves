{
 "cells": [
  {
   "cell_type": "code",
   "execution_count": 7,
   "id": "e4988d69-30d9-491d-859e-410cfe262520",
   "metadata": {},
   "outputs": [
    {
     "name": "stdin",
     "output_type": "stream",
     "text": [
      " 3\n",
      " 29 30\n",
      " 1 2\n",
      " 3 4\n"
     ]
    },
    {
     "name": "stdout",
     "output_type": "stream",
     "text": [
      "30\n",
      "2\n",
      "4\n"
     ]
    }
   ],
   "source": [
    "def factorial(n):\n",
    "    if n>1:\n",
    "        return n * factorial(n-1)\n",
    "    else:\n",
    "        return 1\n",
    "\n",
    "case_num = int(input())\n",
    "answer = []\n",
    "\n",
    "for i in range(case_num):\n",
    "    x, y = map(int, input().split(\" \"))\n",
    "    answer.append(int(factorial(y)/int(factorial(y-x)*factorial(x))))\n",
    "    \n",
    "for i in answer:\n",
    "    print(i)"
   ]
  },
  {
   "cell_type": "code",
   "execution_count": null,
   "id": "5df4c8be-15bc-4b10-a123-116311628de2",
   "metadata": {},
   "outputs": [],
   "source": []
  }
 ],
 "metadata": {
  "kernelspec": {
   "display_name": "Python 3 (ipykernel)",
   "language": "python",
   "name": "python3"
  },
  "language_info": {
   "codemirror_mode": {
    "name": "ipython",
    "version": 3
   },
   "file_extension": ".py",
   "mimetype": "text/x-python",
   "name": "python",
   "nbconvert_exporter": "python",
   "pygments_lexer": "ipython3",
   "version": "3.9.12"
  }
 },
 "nbformat": 4,
 "nbformat_minor": 5
}
