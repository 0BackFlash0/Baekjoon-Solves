{
 "cells": [
  {
   "cell_type": "code",
   "execution_count": 7,
   "id": "4a676249-75ce-4e5f-82cf-07033f2bb2f4",
   "metadata": {},
   "outputs": [
    {
     "name": "stdin",
     "output_type": "stream",
     "text": [
      " 8 8\n",
      " BBBBBBBB\n",
      " BBBBBBBB\n",
      " BBBBBBBB\n",
      " BBBBBBBB\n",
      " BBBBBBBB\n",
      " BBBBBBBB\n",
      " BBBBBBBB\n",
      " BBBBBBBWE\n"
     ]
    },
    {
     "name": "stdout",
     "output_type": "stream",
     "text": [
      "31\n"
     ]
    }
   ],
   "source": [
    "#체스판\n",
    "#입력 W -> True / B -> False\n",
    "\n",
    "class board:\n",
    "    \n",
    "    # 생성자\n",
    "    # parameter : 행개수, 열 개수\n",
    "    # return : None\n",
    "    def __init__(self, row, column):\n",
    "        self._row = row\n",
    "        self._column = column\n",
    "        self._board = [[0 for _ in range(column)] for _ in range(row)]\n",
    "        \n",
    "    # board에 값 입력\n",
    "    # input()을 통해 문자열을 입력받아 이를 _board에 넣는다.\n",
    "    # \"W\"일때 True, \"B\"일때 False를 넣는다.\n",
    "    # parameter : None\n",
    "    # return : None\n",
    "    def input_pattern(self):\n",
    "        for i in range(self._row):\n",
    "            pattern = input()\n",
    "            for j in range(self._column):\n",
    "                self._board[i][j] = True if pattern[j]==\"W\" else False\n",
    "\n",
    "    # 8x8번위에 대한 보드 에러 검사\n",
    "    # parameter\n",
    "    #  start_row : 시작하는 행 번호\n",
    "    #  start_column : 시작하는 열 번호\n",
    "    #  limit_error : 한계 오류 번호\n",
    "    # return : 오류 개수\n",
    "    def area_check(self, start_row, start_column, limit_error, start_pattern):\n",
    "        if(start_row+8>self._row or start_column+8>self._column):\n",
    "            return 64\n",
    "        correct_pattern = start_pattern\n",
    "        error_pattern = 0\n",
    "        \n",
    "        for r in range(start_row, start_row+8):\n",
    "            for c in range(start_column, start_column+8):\n",
    "                if(self._board[r][c]!=correct_pattern):\n",
    "                    error_pattern += 1\n",
    "                    if(error_pattern>=limit_error):\n",
    "                        #print(\"오류 한계 초과\")\n",
    "                        return error_pattern\n",
    "                #print(correct_pattern, self._board[r][c])\n",
    "                correct_pattern = not correct_pattern\n",
    "            correct_pattern = not correct_pattern\n",
    "\n",
    "        return error_pattern\n",
    "        \n",
    "    def pattern_check(self):\n",
    "        min_error = 64\n",
    "        \n",
    "        for r in range(self._row):\n",
    "            for c in range(self._column):\n",
    "                error = min(self.area_check(r, c, min_error, True), self.area_check(r, c, min_error, False))\n",
    "                if(error < min_error):\n",
    "                    min_error = error\n",
    "                \n",
    "        return min_error\n",
    "\n",
    "\n",
    "row, column = map(int, input().split(\" \"))\n",
    "bd = board(row, column)\n",
    "\n",
    "bd.input_pattern()\n",
    "\n",
    "print(bd.pattern_check())\n",
    "\n",
    "#print(len(board), len(board[0]))"
   ]
  },
  {
   "cell_type": "code",
   "execution_count": null,
   "id": "8639293c-695a-45cd-9ddf-330a6c295514",
   "metadata": {},
   "outputs": [],
   "source": []
  },
  {
   "cell_type": "code",
   "execution_count": null,
   "id": "8f545044-ac14-4113-b85c-def2f11f4317",
   "metadata": {},
   "outputs": [],
   "source": []
  },
  {
   "cell_type": "code",
   "execution_count": null,
   "id": "590c6ae7-62ef-491e-9e21-e1ad1f752c9c",
   "metadata": {},
   "outputs": [],
   "source": []
  },
  {
   "cell_type": "code",
   "execution_count": null,
   "id": "da5b59ed-bd4c-4643-8b9b-ac742fcb3b79",
   "metadata": {},
   "outputs": [],
   "source": []
  },
  {
   "cell_type": "code",
   "execution_count": null,
   "id": "519beac4-e6c6-4b61-918c-37c5fa88e9ea",
   "metadata": {},
   "outputs": [],
   "source": []
  },
  {
   "cell_type": "code",
   "execution_count": null,
   "id": "e8a19ce4-f9fe-4dbd-bc26-84f08c1727ad",
   "metadata": {},
   "outputs": [],
   "source": []
  },
  {
   "cell_type": "code",
   "execution_count": null,
   "id": "0a59f1fd-9793-469d-b238-0b07ffe15b4a",
   "metadata": {},
   "outputs": [],
   "source": []
  },
  {
   "cell_type": "code",
   "execution_count": null,
   "id": "8fd672b9-d1c3-4269-873d-d2b344db9704",
   "metadata": {},
   "outputs": [],
   "source": []
  },
  {
   "cell_type": "code",
   "execution_count": null,
   "id": "bc8192f8-b2fb-470f-8518-8f6b44674c5d",
   "metadata": {},
   "outputs": [],
   "source": [
    "def area_check(self, start_row, start_column, limit_error):\n",
    "        if(start_row+8>row or start_column+8>row):\n",
    "            return 64\n",
    "        correct_pattern = board[start_row][start_column]\n",
    "        error_pattern = 0\n",
    "        \n",
    "        for r in range(start_row, start_row+8):\n",
    "            for c in range(start_column, start_column+8):\n",
    "                if(board[r][c]!=correct_pattern):\n",
    "                    error_pattern += 1\n",
    "                correct_pattern = not correct_pattern"
   ]
  }
 ],
 "metadata": {
  "kernelspec": {
   "display_name": "Python 3 (ipykernel)",
   "language": "python",
   "name": "python3"
  },
  "language_info": {
   "codemirror_mode": {
    "name": "ipython",
    "version": 3
   },
   "file_extension": ".py",
   "mimetype": "text/x-python",
   "name": "python",
   "nbconvert_exporter": "python",
   "pygments_lexer": "ipython3",
   "version": "3.9.12"
  }
 },
 "nbformat": 4,
 "nbformat_minor": 5
}
