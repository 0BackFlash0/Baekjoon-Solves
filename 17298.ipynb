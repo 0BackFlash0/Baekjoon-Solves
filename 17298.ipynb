{
 "cells": [
  {
   "cell_type": "code",
   "execution_count": null,
   "metadata": {},
   "outputs": [],
   "source": [
    "import sys\n",
    "input = sys.stdin.readline\n",
    "\n",
    "def nge(num_list):\n",
    "\n",
    "    length = len(num_list)\n",
    "    results = [0] * length\n",
    "    stack = []\n",
    "    #stack에 저장 : (i, val)\n",
    "\n",
    "    for i in range(length):\n",
    "        \n",
    "        n = num_list[i]\n",
    "        \n",
    "        while(len(stack)!=0 and stack[-1][1]<n):\n",
    "            idx, v = stack.pop()\n",
    "            results[idx] = n\n",
    "        \n",
    "        stack.append((i, n))\n",
    "\n",
    "    while(len(stack)>0):\n",
    "        idx, v = stack.pop()\n",
    "        results[idx] = -1\n",
    "\n",
    "    return results\n",
    "\n",
    "        \n",
    "\n",
    "n = int(input())\n",
    "num_list = list(map(int, input().split()))\n",
    "\n",
    "results = nge(num_list)\n",
    "\n",
    "print(\" \".join(map(str, results)))"
   ]
  }
 ],
 "metadata": {
  "kernelspec": {
   "display_name": "base",
   "language": "python",
   "name": "python3"
  },
  "language_info": {
   "name": "python",
   "version": "3.9.13"
  },
  "orig_nbformat": 4,
  "vscode": {
   "interpreter": {
    "hash": "a077222d77dfe082b8f1dd562ad70e458ac2ab76993a0b248ab0476e32e9e8dd"
   }
  }
 },
 "nbformat": 4,
 "nbformat_minor": 2
}
