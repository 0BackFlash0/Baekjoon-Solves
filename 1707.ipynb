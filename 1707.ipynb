{
 "cells": [
  {
   "cell_type": "code",
   "execution_count": null,
   "metadata": {},
   "outputs": [],
   "source": [
    "import sys\n",
    "input = sys.stdin.readline\n",
    "\n",
    "def bipartite_graph(graph_list):\n",
    "\n",
    "    bipartite = [0 for _ in range(len(graph_list))]\n",
    "    bfs_stack = []\n",
    "\n",
    "    for i in range(len(graph_list)):\n",
    "        if(bipartite[i]==0):\n",
    "\n",
    "            bipartite[i] = 1\n",
    "            bfs_stack.append(i)\n",
    "\n",
    "            while(bfs_stack):\n",
    "                \n",
    "                node = bfs_stack.pop()\n",
    "\n",
    "                for next_node in graph_list[node]:\n",
    "                    if(bipartite[next_node]==0):\n",
    "                        bipartite[next_node] = bipartite[node] * -1\n",
    "                        bfs_stack.append(next_node)\n",
    "                    elif(bipartite[next_node]==bipartite[node]):\n",
    "                        return \"NO\"\n",
    "\n",
    "    return \"YES\"\n",
    "\n",
    "\n",
    "n = int(input())\n",
    "\n",
    "for _ in range(n):\n",
    "    v, e = map(int, input().split())\n",
    "\n",
    "    graph_list = [[] for _ in range(v)]\n",
    "    for _ in range(e):\n",
    "        start, end = map(int, input().split())\n",
    "\n",
    "        graph_list[start-1].append(end-1)\n",
    "        graph_list[end-1].append(start-1)\n",
    "    \n",
    "    print(bipartite_graph(graph_list))"
   ]
  }
 ],
 "metadata": {
  "kernelspec": {
   "display_name": "Python 3",
   "language": "python",
   "name": "python3"
  },
  "language_info": {
   "name": "python",
   "version": "3.10.9 (tags/v3.10.9:1dd9be6, Dec  6 2022, 20:01:21) [MSC v.1934 64 bit (AMD64)]"
  },
  "orig_nbformat": 4,
  "vscode": {
   "interpreter": {
    "hash": "7b1f2b33e866b0bf2409397e5f58ba9cdf170d3b7f64c8f359c79998e2f88ad4"
   }
  }
 },
 "nbformat": 4,
 "nbformat_minor": 2
}
