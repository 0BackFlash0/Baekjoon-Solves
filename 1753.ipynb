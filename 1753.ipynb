{
 "cells": [
  {
   "cell_type": "code",
   "execution_count": null,
   "metadata": {},
   "outputs": [],
   "source": [
    "import sys\n",
    "import heapq\n",
    "input = sys.stdin.readline\n",
    "\n",
    "def min_path(graph, start):\n",
    "\n",
    "    paths = [\"INF\" for _ in range(len(graph))]\n",
    "\n",
    "    heap = []\n",
    "    heapq.heappush(heap, (0, start))\n",
    "\n",
    "    while(heap):\n",
    "        (w, v) = heapq.heappop(heap)\n",
    "\n",
    "        if(paths[v]==\"INF\"):\n",
    "            paths[v] = w\n",
    "\n",
    "            for g_w, g_v in graph[v]:\n",
    "                if(paths[g_v]==\"INF\"):\n",
    "                    heapq.heappush(heap, (w + g_w, g_v))\n",
    "\n",
    "    return paths\n",
    "\n",
    "\n",
    "\n",
    "v, e = map(int, input().split())\n",
    "start = int(input())-1\n",
    "\n",
    "graph = [[] for _ in range(v)]\n",
    "for _ in range(e):\n",
    "    u, v, w = map(int, input().split())\n",
    "\n",
    "    graph[u-1].append((w, v-1))\n",
    "\n",
    "min_paths = min_path(graph, start)\n",
    "for i in min_paths:\n",
    "    print(i)\n"
   ]
  }
 ],
 "metadata": {
  "kernelspec": {
   "display_name": "base",
   "language": "python",
   "name": "python3"
  },
  "language_info": {
   "name": "python",
   "version": "3.9.13"
  },
  "orig_nbformat": 4,
  "vscode": {
   "interpreter": {
    "hash": "a077222d77dfe082b8f1dd562ad70e458ac2ab76993a0b248ab0476e32e9e8dd"
   }
  }
 },
 "nbformat": 4,
 "nbformat_minor": 2
}
