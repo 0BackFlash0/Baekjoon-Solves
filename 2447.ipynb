{
 "cells": [
  {
   "cell_type": "code",
   "execution_count": null,
   "metadata": {},
   "outputs": [],
   "source": [
    "import sys\n",
    "input = sys.stdin.readline\n",
    "\n",
    "def print_star(N):\n",
    "\n",
    "    def pattern(size):\n",
    "        if(size==1):\n",
    "            return '*'\n",
    "\n",
    "        size = size//3\n",
    "        in_pattern = pattern(size)\n",
    "        pat_1 = [\"\".join(x) for x in zip(in_pattern, in_pattern, in_pattern)]\n",
    "        pat_2 = [\"\".join(x) for x in zip(in_pattern, [\" \"*size]*size, in_pattern)]\n",
    "        return pat_1 + pat_2 + pat_1\n",
    "\n",
    "    star_matrix = pattern(N)\n",
    "\n",
    "    print(\"\\n\".join(star_matrix))\n",
    "\n",
    "\n",
    "\n",
    "N = int(input())\n",
    "print_star(N)\n"
   ]
  }
 ],
 "metadata": {
  "kernelspec": {
   "display_name": "Python 3",
   "language": "python",
   "name": "python3"
  },
  "language_info": {
   "name": "python",
   "version": "3.10.9 (tags/v3.10.9:1dd9be6, Dec  6 2022, 20:01:21) [MSC v.1934 64 bit (AMD64)]"
  },
  "orig_nbformat": 4,
  "vscode": {
   "interpreter": {
    "hash": "7b1f2b33e866b0bf2409397e5f58ba9cdf170d3b7f64c8f359c79998e2f88ad4"
   }
  }
 },
 "nbformat": 4,
 "nbformat_minor": 2
}
