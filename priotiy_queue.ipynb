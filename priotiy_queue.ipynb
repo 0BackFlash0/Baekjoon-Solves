{
 "cells": [
  {
   "cell_type": "code",
   "execution_count": 100,
   "metadata": {},
   "outputs": [],
   "source": [
    "class Max_heap:\n",
    "\n",
    "    def __init__(self):\n",
    "        self.priority_list = [None]\n",
    "        self.size = 1\n",
    "\n",
    "    \n",
    "    def insert(self, x):\n",
    "        self.priority_list.append(x)\n",
    "        self.size += 1\n",
    "\n",
    "        idx = self.size-1\n",
    "\n",
    "        while idx>1 and self.priority_list[idx//2]<self.priority_list[idx]:\n",
    "            tmp = self.priority_list[idx//2]\n",
    "            self.priority_list[idx//2] = self.priority_list[idx]\n",
    "            self.priority_list[idx] = tmp\n",
    "\n",
    "            idx //= 2\n",
    "        return\n",
    "\n",
    "    def remove(self):\n",
    "        result = self.priority_list[1]\n",
    "        if(self.size>2):\n",
    "            self.priority_list[1] = self.priority_list.pop()\n",
    "            self.size -= 1\n",
    "\n",
    "            idx = 1\n",
    "\n",
    "            while idx*2<self.size:\n",
    "                if(idx*2+1<self.size):\n",
    "                    target_idx = idx*2 if self.priority_list[idx*2] > self.priority_list[idx*2+1] else idx*2+1\n",
    "                else:\n",
    "                    target_idx = idx*2\n",
    "\n",
    "                if(self.priority_list[target_idx]>self.priority_list[idx]):\n",
    "                    tmp = self.priority_list[target_idx]\n",
    "                    self.priority_list[target_idx] = self.priority_list[idx]\n",
    "                    self.priority_list[idx] = tmp\n",
    "\n",
    "                    idx = target_idx\n",
    "                else:\n",
    "                    break\n",
    "        else:\n",
    "            self.priority_list.pop()\n",
    "            self.size -= 1\n",
    "        return result\n",
    "\n",
    "    def find(self):\n",
    "        return self.priority_list[1]\n",
    "\n"
   ]
  },
  {
   "cell_type": "code",
   "execution_count": 101,
   "metadata": {},
   "outputs": [],
   "source": [
    "heap = Max_heap()"
   ]
  },
  {
   "cell_type": "code",
   "execution_count": 102,
   "metadata": {},
   "outputs": [],
   "source": [
    "heap.insert(1)"
   ]
  },
  {
   "cell_type": "code",
   "execution_count": 103,
   "metadata": {},
   "outputs": [
    {
     "data": {
      "text/plain": [
       "[None, 1]"
      ]
     },
     "execution_count": 103,
     "metadata": {},
     "output_type": "execute_result"
    }
   ],
   "source": [
    "heap.priority_list"
   ]
  },
  {
   "cell_type": "code",
   "execution_count": 104,
   "metadata": {},
   "outputs": [],
   "source": [
    "heap.insert(2)"
   ]
  },
  {
   "cell_type": "code",
   "execution_count": 105,
   "metadata": {},
   "outputs": [
    {
     "data": {
      "text/plain": [
       "[None, 2, 1]"
      ]
     },
     "execution_count": 105,
     "metadata": {},
     "output_type": "execute_result"
    }
   ],
   "source": [
    "heap.priority_list"
   ]
  },
  {
   "cell_type": "code",
   "execution_count": 106,
   "metadata": {},
   "outputs": [],
   "source": [
    "heap.insert(3)"
   ]
  },
  {
   "cell_type": "code",
   "execution_count": 107,
   "metadata": {},
   "outputs": [],
   "source": [
    "heap.insert(5)"
   ]
  },
  {
   "cell_type": "code",
   "execution_count": 108,
   "metadata": {},
   "outputs": [
    {
     "data": {
      "text/plain": [
       "[None, 5, 3, 2, 1]"
      ]
     },
     "execution_count": 108,
     "metadata": {},
     "output_type": "execute_result"
    }
   ],
   "source": [
    "heap.priority_list"
   ]
  },
  {
   "cell_type": "code",
   "execution_count": 109,
   "metadata": {},
   "outputs": [],
   "source": [
    "heap.insert(4)"
   ]
  },
  {
   "cell_type": "code",
   "execution_count": 110,
   "metadata": {},
   "outputs": [
    {
     "data": {
      "text/plain": [
       "[None, 5, 4, 2, 1, 3]"
      ]
     },
     "execution_count": 110,
     "metadata": {},
     "output_type": "execute_result"
    }
   ],
   "source": [
    "heap.priority_list"
   ]
  },
  {
   "cell_type": "code",
   "execution_count": 111,
   "metadata": {},
   "outputs": [
    {
     "data": {
      "text/plain": [
       "[None, 5, 4, 2, 1, 3]"
      ]
     },
     "execution_count": 111,
     "metadata": {},
     "output_type": "execute_result"
    }
   ],
   "source": [
    "heap.priority_list"
   ]
  },
  {
   "cell_type": "code",
   "execution_count": 112,
   "metadata": {},
   "outputs": [
    {
     "data": {
      "text/plain": [
       "5"
      ]
     },
     "execution_count": 112,
     "metadata": {},
     "output_type": "execute_result"
    }
   ],
   "source": [
    "heap.remove()"
   ]
  },
  {
   "cell_type": "code",
   "execution_count": 113,
   "metadata": {},
   "outputs": [],
   "source": [
    "heap.insert(5)"
   ]
  },
  {
   "cell_type": "code",
   "execution_count": 114,
   "metadata": {},
   "outputs": [
    {
     "data": {
      "text/plain": [
       "5"
      ]
     },
     "execution_count": 114,
     "metadata": {},
     "output_type": "execute_result"
    }
   ],
   "source": [
    "heap.remove()"
   ]
  },
  {
   "cell_type": "code",
   "execution_count": 115,
   "metadata": {},
   "outputs": [],
   "source": [
    "heap.insert(5)"
   ]
  },
  {
   "cell_type": "code",
   "execution_count": 116,
   "metadata": {},
   "outputs": [
    {
     "data": {
      "text/plain": [
       "[None, 5, 4, 2, 1, 3]"
      ]
     },
     "execution_count": 116,
     "metadata": {},
     "output_type": "execute_result"
    }
   ],
   "source": [
    "heap.priority_list"
   ]
  },
  {
   "cell_type": "code",
   "execution_count": null,
   "metadata": {},
   "outputs": [],
   "source": []
  }
 ],
 "metadata": {
  "kernelspec": {
   "display_name": "base",
   "language": "python",
   "name": "python3"
  },
  "language_info": {
   "codemirror_mode": {
    "name": "ipython",
    "version": 3
   },
   "file_extension": ".py",
   "mimetype": "text/x-python",
   "name": "python",
   "nbconvert_exporter": "python",
   "pygments_lexer": "ipython3"
  },
  "orig_nbformat": 4,
  "vscode": {
   "interpreter": {
    "hash": "a077222d77dfe082b8f1dd562ad70e458ac2ab76993a0b248ab0476e32e9e8dd"
   }
  }
 },
 "nbformat": 4,
 "nbformat_minor": 2
}
